{
  "cells": [
    {
      "cell_type": "markdown",
      "metadata": {
        "id": "view-in-github",
        "colab_type": "text"
      },
      "source": [
        "<a href=\"https://colab.research.google.com/github/Zack1243/Novel-Webscraper/blob/multi-threaded-downloads/Webscraper3_0.ipynb\" target=\"_parent\"><img src=\"https://colab.research.google.com/assets/colab-badge.svg\" alt=\"Open In Colab\"/></a>"
      ]
    },
    {
      "cell_type": "code",
      "execution_count": null,
      "metadata": {
        "colab": {
          "base_uri": "https://localhost:8080/"
        },
        "id": "dsn3bcPnF-rS",
        "outputId": "0b04b32a-55b6-44ed-a27d-49c39422372d"
      },
      "outputs": [
        {
          "output_type": "stream",
          "name": "stdout",
          "text": [
            "Requirement already satisfied: selenium in /usr/local/lib/python3.10/dist-packages (4.20.0)\n",
            "Requirement already satisfied: urllib3[socks]<3,>=1.26 in /usr/local/lib/python3.10/dist-packages (from selenium) (2.0.7)\n",
            "Requirement already satisfied: trio~=0.17 in /usr/local/lib/python3.10/dist-packages (from selenium) (0.25.0)\n",
            "Requirement already satisfied: trio-websocket~=0.9 in /usr/local/lib/python3.10/dist-packages (from selenium) (0.11.1)\n",
            "Requirement already satisfied: certifi>=2021.10.8 in /usr/local/lib/python3.10/dist-packages (from selenium) (2024.2.2)\n",
            "Requirement already satisfied: typing_extensions>=4.9.0 in /usr/local/lib/python3.10/dist-packages (from selenium) (4.11.0)\n",
            "Requirement already satisfied: attrs>=23.2.0 in /usr/local/lib/python3.10/dist-packages (from trio~=0.17->selenium) (23.2.0)\n",
            "Requirement already satisfied: sortedcontainers in /usr/local/lib/python3.10/dist-packages (from trio~=0.17->selenium) (2.4.0)\n",
            "Requirement already satisfied: idna in /usr/local/lib/python3.10/dist-packages (from trio~=0.17->selenium) (3.7)\n",
            "Requirement already satisfied: outcome in /usr/local/lib/python3.10/dist-packages (from trio~=0.17->selenium) (1.3.0.post0)\n",
            "Requirement already satisfied: sniffio>=1.3.0 in /usr/local/lib/python3.10/dist-packages (from trio~=0.17->selenium) (1.3.1)\n",
            "Requirement already satisfied: exceptiongroup in /usr/local/lib/python3.10/dist-packages (from trio~=0.17->selenium) (1.2.1)\n",
            "Requirement already satisfied: wsproto>=0.14 in /usr/local/lib/python3.10/dist-packages (from trio-websocket~=0.9->selenium) (1.2.0)\n",
            "Requirement already satisfied: pysocks!=1.5.7,<2.0,>=1.5.6 in /usr/local/lib/python3.10/dist-packages (from urllib3[socks]<3,>=1.26->selenium) (1.7.1)\n",
            "Requirement already satisfied: h11<1,>=0.9.0 in /usr/local/lib/python3.10/dist-packages (from wsproto>=0.14->trio-websocket~=0.9->selenium) (0.14.0)\n"
          ]
        }
      ],
      "source": [
        "from bs4 import BeautifulSoup as b4\n",
        "import asyncio\n",
        "from google.colab import files\n",
        "import multiprocessing\n",
        "import os\n",
        "import requests\n",
        "import time\n",
        "import zipfile\n",
        "!pip install selenium"
      ]
    },
    {
      "cell_type": "code",
      "source": [
        "import selenium\n",
        "from selenium import webdriver\n",
        "from selenium.webdriver.common.by import By\n",
        "from selenium.webdriver.support.ui import WebDriverWait\n",
        "from selenium.webdriver.support import expected_conditions as EC\n",
        "from selenium.common.exceptions import TimeoutException"
      ],
      "metadata": {
        "id": "3ckpW6a_36_t"
      },
      "execution_count": null,
      "outputs": []
    },
    {
      "cell_type": "code",
      "execution_count": null,
      "metadata": {
        "id": "En4RRes9BYNT"
      },
      "outputs": [],
      "source": [
        "TRIAL = 3\n",
        "NUM_THREADS = 5\n",
        "LINKS = [\"https://www.lightnovelpub.com/novel/advent-of-the-three-calamities-1678/chapter-1\",\n",
        "  \"https://www.lightnovelpub.com/novel/advent-of-the-three-calamities-1678/chapter-2\",\n",
        "  \"https://www.lightnovelpub.com/novel/advent-of-the-three-calamities-1678/chapter-3\",\n",
        "  \"https://www.lightnovelpub.com/novel/advent-of-the-three-calamities-1678/chapter-4\",\n",
        "  \"https://www.lightnovelpub.com/novel/advent-of-the-three-calamities-1678/chapter-5\",\n",
        "  \"https://www.lightnovelpub.com/novel/advent-of-the-three-calamities-1678/chapter-6\",\n",
        "  \"https://www.lightnovelpub.com/novel/advent-of-the-three-calamities-1678/chapter-7\",\n",
        "  \"https://www.lightnovelpub.com/novel/advent-of-the-three-calamities-1678/chapter-8\"]"
      ]
    },
    {
      "cell_type": "markdown",
      "source": [
        "## Instantiate browser"
      ],
      "metadata": {
        "id": "vg8phXhR6eP9"
      }
    },
    {
      "cell_type": "code",
      "source": [
        "def getBrowser():\n",
        "  options = webdriver.FirefoxOptions()\n",
        "  options.add_argument('--headless')\n",
        "  browser = webdriver.Firefox(options=options)\n",
        "  return browser"
      ],
      "metadata": {
        "id": "fGUf7k1_6dQ6"
      },
      "execution_count": null,
      "outputs": []
    },
    {
      "cell_type": "markdown",
      "metadata": {
        "id": "aIfWjf7DEU4a"
      },
      "source": [
        "### Parse chapter"
      ]
    },
    {
      "cell_type": "code",
      "execution_count": null,
      "metadata": {
        "id": "ICR4B894EUlm"
      },
      "outputs": [],
      "source": [
        "async def parseFile(html):\n",
        "  #with open(html, \"r\") as file:\n",
        "  soup = b4(html, features=\"html.parser\")\n",
        "  #print(soup.chapter-title.get_text())\n",
        "  tag = soup.article.find_all('span')\n",
        "  for t in tag:\n",
        "    if \"Chapter\" in t.get_text():\n",
        "      title = t.get_text() + \".html\"\n",
        "  soup = soup.find_all('p')\n",
        "  with open(title, \"w\" , encoding='utf-8') as file:\n",
        "    for paragraph in soup:\n",
        "        file.write(str(paragraph) + \"\\n\")  # Write each paragraph to the file\n",
        "    print(str(soup))\n",
        "  file.close()"
      ]
    },
    {
      "cell_type": "markdown",
      "metadata": {
        "id": "8sIu5yOw8uMi"
      },
      "source": [
        "### Download main webpage"
      ]
    },
    {
      "cell_type": "code",
      "execution_count": null,
      "metadata": {
        "id": "04v_pqZ80XCk"
      },
      "outputs": [],
      "source": [
        "async def getChapter(queue, browser, trial):\n",
        "  while True:\n",
        "    link = await queue.get()\n",
        "    try:\n",
        "      browser.get(link)\n",
        "      print(f\"attempting to download url: {link}\")\n",
        "      timeout_in_seconds = 10\n",
        "      WebDriverWait(browser, timeout_in_seconds).until(EC.presence_of_element_located((By.ID, 'chapter-container')))\n",
        "      html = browser.page_source\n",
        "      await parseFile(html)\n",
        "      queue.task_done()\n",
        "    except:\n",
        "      if trial >= TRIAL:\n",
        "        with open(link, \"w\") as file:\n",
        "          file.write(\"I DONE GOOFED!!!\")\n",
        "        file.close()\n",
        "        print(\"I give up...\")\n",
        "        queue.task_done()\n",
        "      else:\n",
        "        print(f\"Download failed trial {trial}\")\n",
        "        trial += 1\n",
        "        await getChapter(queue, browser, trial)"
      ]
    },
    {
      "cell_type": "markdown",
      "source": [
        "## Asyncio on the Queue of links"
      ],
      "metadata": {
        "id": "S--evjSb6lig"
      }
    },
    {
      "cell_type": "code",
      "source": [
        "async def main():\n",
        "  # Instantiate the queue\n",
        "  queue = asyncio.Queue()\n",
        "\n",
        "  # Add item to the queue\n",
        "  for link in LINKS:\n",
        "    queue.put_nowait(link)\n",
        "\n",
        "  tasks = []\n",
        "  browsers = []\n",
        "  # Construct worker threads\n",
        "  for i in range(NUM_THREADS):\n",
        "    browsers.append(getBrowser())\n",
        "    # TODO: Replace worker and its arguments with getChapter arguments\n",
        "    task = asyncio.create_task(getChapter(queue, browsers[i], 0))\n",
        "    tasks.append(task)\n",
        "\n",
        "  # Wait until the queue is processed\n",
        "  await queue.join()\n",
        "    #await asyncio.task\n",
        "\n",
        "  # Cancel our worker tasks.\n",
        "  for task in tasks:\n",
        "      task.cancel()\n",
        "  # Wait until all worker tasks are cancelled.\n",
        "  await asyncio.gather(*tasks, return_exceptions=True)\n",
        "await main()"
      ],
      "metadata": {
        "id": "kRPSlxmO6kVa"
      },
      "execution_count": null,
      "outputs": []
    },
    {
      "cell_type": "markdown",
      "metadata": {
        "id": "voWZeQopEqKu"
      },
      "source": [
        "### Get webpage"
      ]
    },
    {
      "cell_type": "code",
      "execution_count": null,
      "metadata": {
        "id": "kjYHeIIqEppo"
      },
      "outputs": [],
      "source": [
        "def getNovelPage(url, browser, trial):\n",
        "  try:\n",
        "      print(f\"getNovelPage trying url: {url}...\")\n",
        "      browser.get(url)\n",
        "      html = browser.page_source\n",
        "      soup = b4(html, features=\"html.parser\")\n",
        "      strainer = soup.find(class_=\"chapter-list\").find_all('a')\n",
        "      for link in strainer:\n",
        "        getChapter(\"https://www.lightnovelpub.com\"+ link['href'], browser, 0)\n",
        "      return html\n",
        "  except TimeoutException:\n",
        "      if trial >= TRIAL:\n",
        "        with open(url, \"w\") as file:\n",
        "          file.write(\"I DONE GOOFED!!!\")\n",
        "        return -1\n",
        "        file.close()\n",
        "        print(\"I give up...\")\n",
        "      else:\n",
        "        print(f\"Download failed trial {trial}\")\n",
        "        getNovelPage(url, browser, trial + 1)\n",
        "  finally:\n",
        "      browser.quit()"
      ]
    },
    {
      "cell_type": "markdown",
      "metadata": {
        "id": "76fZKCAe03o9"
      },
      "source": [
        "### Get links and go to next chapter page, if avaliable (testing from file)"
      ]
    },
    {
      "cell_type": "code",
      "execution_count": null,
      "metadata": {
        "id": "s54J3idj03Uv"
      },
      "outputs": [],
      "source": [
        "async def getChapterPages(url, page_num):\n",
        "  # Start a new selenium process\n",
        "  options = webdriver.FirefoxOptions()\n",
        "  options.add_argument('--headless')\n",
        "  browser = webdriver.Firefox(options=options)\n",
        "\n",
        "  # Get the novel main page\n",
        "  url_source = getNovelPage(url, browser, 0)\n",
        "\n",
        "  if url_source == -1:\n",
        "    print(\"Unable to find page source!\")\n",
        "    return\n",
        "\n",
        "  soup = b4(url_source, features=\"html.parser\")\n",
        "  links = soup.find(class_=\"pagenav\").find_all(class_=\"PagedList-skipToNext\")\n",
        "  next_url = \"\"\n",
        "  for link in links:\n",
        "    next_url =  link.find('a')['href']\n",
        "  if next_url:\n",
        "    # Make new url\n",
        "    new_url = \"https://www.lightnovelpub.com\" + next_url\n",
        "    getChapterPages(new_url, page_num+1)\n",
        "  else:\n",
        "    browser.quit()"
      ]
    },
    {
      "cell_type": "markdown",
      "source": [
        "## Zip up files to be downloaded"
      ],
      "metadata": {
        "id": "vxilu1N5-DbW"
      }
    },
    {
      "cell_type": "code",
      "source": [
        "def downloadZip(title):\n",
        "  directory = os.getcwd()\n",
        "\n",
        "  # List all files in the directory\n",
        "  all_files = os.listdir(directory)\n",
        "\n",
        "  # Specify the name of the zip file to create\n",
        "  zip_file_name = title + \".zip\"\n",
        "\n",
        "  # Create a zip file\n",
        "  with zipfile.ZipFile(zip_file_name, 'w') as zipf:\n",
        "      # Add each file in the directory to the zip file\n",
        "      for file in all_files:\n",
        "          file_path = os.path.join(directory, file)\n",
        "          zipf.write(file_path, os.path.basename(file_path))\n",
        "\n",
        "  print(\"Zip file created:\", zip_file_name)\n",
        "\n",
        "  files.download(directory + '/' + zip_file_name)"
      ],
      "metadata": {
        "id": "VqycNJAi-C_6"
      },
      "execution_count": null,
      "outputs": []
    },
    {
      "cell_type": "markdown",
      "source": [
        "## Make and change to directory (book's title)"
      ],
      "metadata": {
        "id": "LbR20WyL-xqz"
      }
    },
    {
      "cell_type": "code",
      "source": [
        "def getDir(directory):\n",
        "  if not os.path.exists(directory):\n",
        "    os.mkdir(directory)\n",
        "    os.chdir(directory)\n",
        "  elif os.getcwd != directory:\n",
        "    os.chdir(directory)\n",
        "  else:\n",
        "    pass"
      ],
      "metadata": {
        "id": "BGtO7bt6-Q6Z"
      },
      "execution_count": 2,
      "outputs": []
    },
    {
      "cell_type": "markdown",
      "source": [
        "## Async Download Chapter pages"
      ],
      "metadata": {
        "id": "ZVU8cWb8_8WX"
      }
    },
    {
      "cell_type": "code",
      "source": [
        "def asyncDownload(url, browsers):\n",
        "  # Mimic function for async behavior\n",
        "\n",
        "  # Download the first webpage\n",
        "    # Check the number of chapter pages\n",
        "    # Adjust the number of threads\n",
        "\n",
        "  # Instantiate queue for chapter pages\n",
        "    # Populate queue for chapter pages\n",
        "\n",
        "  # Instantiate worker threads for chapter pages\n",
        "    # Add each worker thread to task queue\n",
        "    # Append output to queue of all chapter urls\n",
        "\n",
        "  # Wait for the queue to join (be processed)\n",
        "\n",
        "  # Cancel all the tasks\n",
        "\n",
        "  # Wait for all the tasks to be canceled and delete them\n",
        "\n",
        "\n",
        "  # RINSE AND REPEAT FOR ALL CHAPTERS"
      ],
      "metadata": {
        "id": "SYheEB7p_79-"
      },
      "execution_count": null,
      "outputs": []
    },
    {
      "cell_type": "code",
      "source": [
        "  def main1(url, title):\n",
        "    # Change directory\n",
        "    getDir(title)\n",
        "\n",
        "    # Instantiate list of browsers\n",
        "    browsers = []\n",
        "    for i in range(NUM_THREADS):\n",
        "      browsers.append(getBrowser())\n",
        "\n",
        "    # Start async downloading chapter pages\n",
        "    asyncDownload(url, browsers)\n",
        "\n",
        "\n",
        "    # Zip and download chapters\n",
        "    downloadZip(title)"
      ],
      "metadata": {
        "id": "QRbJCTWt_UCw"
      },
      "execution_count": null,
      "outputs": []
    },
    {
      "cell_type": "markdown",
      "metadata": {
        "id": "4pvQyXi8HZYK"
      },
      "source": [
        "### Input url"
      ]
    },
    {
      "cell_type": "code",
      "execution_count": null,
      "metadata": {
        "id": "xi9DH-juGBLV"
      },
      "outputs": [],
      "source": [
        "# Ask user for ln information\n",
        "url = input(\"Enter URL: \")\n",
        "title = input(\"Enter directory: \")\n",
        "main1(url, title)"
      ]
    }
  ],
  "metadata": {
    "colab": {
      "provenance": [],
      "authorship_tag": "ABX9TyNRCmA/GDOi9V21NP0Vf/yt",
      "include_colab_link": true
    },
    "kernelspec": {
      "display_name": "Python 3",
      "name": "python3"
    },
    "language_info": {
      "name": "python"
    }
  },
  "nbformat": 4,
  "nbformat_minor": 0
}