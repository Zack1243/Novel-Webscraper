{
  "cells": [
    {
      "cell_type": "markdown",
      "metadata": {
        "id": "view-in-github",
        "colab_type": "text"
      },
      "source": [
        "<a href=\"https://colab.research.google.com/github/Zack1243/Novel-Webscraper/blob/multi-threaded-downloads/Webscraper3_0.ipynb\" target=\"_parent\"><img src=\"https://colab.research.google.com/assets/colab-badge.svg\" alt=\"Open In Colab\"/></a>"
      ]
    },
    {
      "cell_type": "code",
      "execution_count": 19,
      "metadata": {
        "colab": {
          "base_uri": "https://localhost:8080/"
        },
        "id": "dsn3bcPnF-rS",
        "outputId": "56ceb2a8-a0fc-411c-fc03-80ff67f03323"
      },
      "outputs": [
        {
          "output_type": "stream",
          "name": "stdout",
          "text": [
            "Requirement already satisfied: selenium in /usr/local/lib/python3.10/dist-packages (4.20.0)\n",
            "Requirement already satisfied: urllib3[socks]<3,>=1.26 in /usr/local/lib/python3.10/dist-packages (from selenium) (2.0.7)\n",
            "Requirement already satisfied: trio~=0.17 in /usr/local/lib/python3.10/dist-packages (from selenium) (0.25.0)\n",
            "Requirement already satisfied: trio-websocket~=0.9 in /usr/local/lib/python3.10/dist-packages (from selenium) (0.11.1)\n",
            "Requirement already satisfied: certifi>=2021.10.8 in /usr/local/lib/python3.10/dist-packages (from selenium) (2024.2.2)\n",
            "Requirement already satisfied: typing_extensions>=4.9.0 in /usr/local/lib/python3.10/dist-packages (from selenium) (4.11.0)\n",
            "Requirement already satisfied: attrs>=23.2.0 in /usr/local/lib/python3.10/dist-packages (from trio~=0.17->selenium) (23.2.0)\n",
            "Requirement already satisfied: sortedcontainers in /usr/local/lib/python3.10/dist-packages (from trio~=0.17->selenium) (2.4.0)\n",
            "Requirement already satisfied: idna in /usr/local/lib/python3.10/dist-packages (from trio~=0.17->selenium) (3.7)\n",
            "Requirement already satisfied: outcome in /usr/local/lib/python3.10/dist-packages (from trio~=0.17->selenium) (1.3.0.post0)\n",
            "Requirement already satisfied: sniffio>=1.3.0 in /usr/local/lib/python3.10/dist-packages (from trio~=0.17->selenium) (1.3.1)\n",
            "Requirement already satisfied: exceptiongroup in /usr/local/lib/python3.10/dist-packages (from trio~=0.17->selenium) (1.2.1)\n",
            "Requirement already satisfied: wsproto>=0.14 in /usr/local/lib/python3.10/dist-packages (from trio-websocket~=0.9->selenium) (1.2.0)\n",
            "Requirement already satisfied: pysocks!=1.5.7,<2.0,>=1.5.6 in /usr/local/lib/python3.10/dist-packages (from urllib3[socks]<3,>=1.26->selenium) (1.7.1)\n",
            "Requirement already satisfied: h11<1,>=0.9.0 in /usr/local/lib/python3.10/dist-packages (from wsproto>=0.14->trio-websocket~=0.9->selenium) (0.14.0)\n"
          ]
        }
      ],
      "source": [
        "from bs4 import BeautifulSoup as b4\n",
        "import asyncio\n",
        "from google.colab import files\n",
        "import multiprocessing\n",
        "import os\n",
        "import requests\n",
        "import time\n",
        "import zipfile\n",
        "!pip install selenium"
      ]
    },
    {
      "cell_type": "code",
      "source": [
        "import selenium\n",
        "from selenium import webdriver\n",
        "from selenium.webdriver.common.by import By\n",
        "from selenium.webdriver.support.ui import WebDriverWait\n",
        "from selenium.webdriver.support import expected_conditions as EC\n",
        "from selenium.common.exceptions import TimeoutException"
      ],
      "metadata": {
        "id": "3ckpW6a_36_t"
      },
      "execution_count": 20,
      "outputs": []
    },
    {
      "cell_type": "code",
      "execution_count": 21,
      "metadata": {
        "id": "En4RRes9BYNT"
      },
      "outputs": [],
      "source": [
        "TRIAL = 3\n",
        "NUM_THREADS = 4\n",
        "LINKS = [\"https://www.lightnovelpub.com/novel/advent-of-the-three-calamities-1678/chapter-1\",\n",
        "  \"https://www.lightnovelpub.com/novel/advent-of-the-three-calamities-1678/chapter-2\",\n",
        "  \"https://www.lightnovelpub.com/novel/advent-of-the-three-calamities-1678/chapter-3\",\n",
        "  \"https://www.lightnovelpub.com/novel/advent-of-the-three-calamities-1678/chapter-4\",\n",
        "  \"https://www.lightnovelpub.com/novel/advent-of-the-three-calamities-1678/chapter-5\",\n",
        "  \"https://www.lightnovelpub.com/novel/advent-of-the-three-calamities-1678/chapter-6\",\n",
        "  \"https://www.lightnovelpub.com/novel/advent-of-the-three-calamities-1678/chapter-7\",\n",
        "  \"https://www.lightnovelpub.com/novel/advent-of-the-three-calamities-1678/chapter-8\"]"
      ]
    },
    {
      "cell_type": "markdown",
      "source": [
        "## Instantiate browser"
      ],
      "metadata": {
        "id": "vg8phXhR6eP9"
      }
    },
    {
      "cell_type": "code",
      "source": [
        "def getBrowser():\n",
        "  options = webdriver.FirefoxOptions()\n",
        "  options.add_argument('--headless')\n",
        "  browser = webdriver.Firefox(options=options)\n",
        "  return browser"
      ],
      "metadata": {
        "id": "fGUf7k1_6dQ6"
      },
      "execution_count": 22,
      "outputs": []
    },
    {
      "cell_type": "markdown",
      "metadata": {
        "id": "aIfWjf7DEU4a"
      },
      "source": [
        "### Parse chapter"
      ]
    },
    {
      "cell_type": "code",
      "execution_count": 23,
      "metadata": {
        "id": "ICR4B894EUlm"
      },
      "outputs": [],
      "source": [
        "async def parseFile(html):\n",
        "\n",
        "  # Start beautiful soup object and parse\n",
        "  soup = b4(html, features=\"html.parser\")\n",
        "  tag = soup.article.find_all('span')\n",
        "\n",
        "  # Get title\n",
        "  for t in tag:\n",
        "    if \"Chapter\" in t.get_text():\n",
        "      title = t.get_text() + \".html\"\n",
        "\n",
        "  # Get chapter content\n",
        "  soup = soup.find_all('p')\n",
        "  with open(title, \"w\" , encoding='utf-8') as file:\n",
        "    for paragraph in soup:\n",
        "        file.write(str(paragraph) + \"\\n\")  # Write each paragraph to the file\n",
        "    print(str(soup))\n",
        "  file.close()"
      ]
    },
    {
      "cell_type": "markdown",
      "metadata": {
        "id": "8sIu5yOw8uMi"
      },
      "source": [
        "### Download main webpage"
      ]
    },
    {
      "cell_type": "code",
      "execution_count": 34,
      "metadata": {
        "id": "04v_pqZ80XCk"
      },
      "outputs": [],
      "source": [
        "async def getChapter(browser, url, trial, thread_id):\n",
        "  print(f\"Thread {thread_id} attempting to download url: {url}\")\n",
        "  # while True:\n",
        "  try:\n",
        "    browser.get(url)\n",
        "    timeout_in_seconds = 10\n",
        "    WebDriverWait(browser, timeout_in_seconds).until(EC.presence_of_element_located((By.ID, 'chapter-container')))\n",
        "    await parseFile(browser.page_source)\n",
        "  except TimeoutException:\n",
        "    if trial >= TRIAL:\n",
        "      with open(url, \"w\") as file:\n",
        "        file.write(\"I DONE GOOFED!!!\")\n",
        "      file.close()\n",
        "      print(\"I give up...\")\n",
        "    else:\n",
        "      await asyncio.sleep(0.1)\n",
        "      print(f\"Thread {thread_id} Download failed trial {trial}\")\n",
        "      trial += 1\n",
        "      await getChapter(browser, url, trial, thread_id)"
      ]
    },
    {
      "cell_type": "markdown",
      "source": [
        "## Get Chapter page links"
      ],
      "metadata": {
        "id": "W4WMhfNg_Z4I"
      }
    },
    {
      "cell_type": "code",
      "source": [
        "async def getChapterPage(queue, browser, url, trial, thread_id):\n",
        "  try:\n",
        "    # Get webpage\n",
        "    print(f\"Thread {thread_id} getChapterPages trying url: {url}...\")\n",
        "    browser.get(url)\n",
        "\n",
        "    # Start beautiful soup html parsing\n",
        "    soup = b4(browser.page_source, features=\"html.parser\")\n",
        "    links = soup.find(class_=\"pagenav\").find_all(class_=\"PagedList-skipToNext\")\n",
        "\n",
        "    # Append chapter and chapter page links\n",
        "    if links:\n",
        "      queue.put_nowait(\"https://www.lightnovelpub.com\" + links[0].find('a')['href'])\n",
        "    strainer = soup.find(class_=\"chapter-list\").find_all('a')\n",
        "    for link in strainer:\n",
        "      queue.put_nowait(\"https://www.lightnovelpub.com\"+ link['href'])\n",
        "\n",
        "\n",
        "  # Try to get webpage a total of TRIAL times before giving up\n",
        "  except TimeoutException:\n",
        "    if trial >= TRIAL:\n",
        "      with open(url, \"w\") as file:\n",
        "        file.write(\"I DONE GOOFED!!!\")\n",
        "      file.close()\n",
        "      print(\"I give up...\")\n",
        "    else:\n",
        "      await asyncio.sleep(0.1)\n",
        "      print(f\"Thread {thread_id} Download failed trial {trial}\")\n",
        "      await getChapterPage(queue, browser, url, trial + 1, thread_id)"
      ],
      "metadata": {
        "id": "cVYePu_O_Zbw"
      },
      "execution_count": 35,
      "outputs": []
    },
    {
      "cell_type": "markdown",
      "metadata": {
        "id": "76fZKCAe03o9"
      },
      "source": [
        "### Get links and go to next chapter page, if avaliable (testing from file)"
      ]
    },
    {
      "cell_type": "code",
      "execution_count": 26,
      "metadata": {
        "id": "s54J3idj03Uv"
      },
      "outputs": [],
      "source": [
        "async def getChapterPages(queue, browser, thread_id):\n",
        "  while True:\n",
        "\n",
        "    # Fet item from queue\n",
        "    url = await queue.get()\n",
        "\n",
        "    await asyncio.sleep(0.1)\n",
        "\n",
        "    # If this is a chapter page\n",
        "    if \"page\" in url:\n",
        "      await getChapterPage(queue, browser, url, 0, thread_id)\n",
        "\n",
        "    # Else, this url is a chapter\n",
        "    else:\n",
        "      await getChapter(browser, url, 0, thread_id)\n",
        "    #print(f\"Finished downloading/adding from url: {url}\")\n",
        "    # Mark as done\n",
        "    queue.task_done()\n",
        ""
      ]
    },
    {
      "cell_type": "markdown",
      "source": [
        "## Get the first webpage"
      ],
      "metadata": {
        "id": "Q0h0Car9SduK"
      }
    },
    {
      "cell_type": "code",
      "source": [
        "#TODO\n",
        "  # Add the link to list of failed downloads if failed\n",
        "def getFirstPage(url, browser, trial):\n",
        "  try:\n",
        "    queue = asyncio.Queue()\n",
        "\n",
        "    # Get and parse webpage\n",
        "    browser.get(url)\n",
        "    soup = b4(browser.page_source, features=\"html.parser\")\n",
        "\n",
        "    # Get chapter links and chapter page links\n",
        "    #TODO: Error check if the next page does not exist\n",
        "    links = soup.find(class_=\"pagenav\").find_all(class_=\"PagedList-skipToNext\")\n",
        "    strainer = soup.find(class_=\"chapter-list\").find_all('a')\n",
        "\n",
        "    # Found both chapter page links and chapter links\n",
        "    if links:\n",
        "      # Queue the next chapter page url\n",
        "      url1 = \"https://www.lightnovelpub.com\" + links[0].find('a')['href']\n",
        "      #print(f\"Adding url to queue: {url1}\")\n",
        "      queue.put_nowait(url1)\n",
        "      for link in strainer:\n",
        "        #print(f\"Adding url to queue: {link}\")\n",
        "        queue.put_nowait(\"https://www.lightnovelpub.com\"+ link['href'])\n",
        "      return queue\n",
        "\n",
        "    # Could only find chapter links\n",
        "    elif strainer:\n",
        "      for link in strainer:\n",
        "        queue.put_nowait(\"https://www.lightnovelpub.com\"+ link['href'])\n",
        "      return queue\n",
        "\n",
        "    # Got nothing\n",
        "    else:\n",
        "      return -1\n",
        "\n",
        "  # Failed to download webpage\n",
        "  except TimeoutException:\n",
        "    # Give up!\n",
        "    if trial >= TRIAL:\n",
        "      # Write a file saying what failed\n",
        "      print(f\"Failed to find/get input url: {url}\")\n",
        "      return -1\n",
        "\n",
        "    # Try again, up to 3 times\n",
        "    else:\n",
        "      print(f\"Download failed trial {trial}\")\n",
        "      getFirstPage(url, browser, trial + 1)"
      ],
      "metadata": {
        "id": "pdMfZ-P-Sccy"
      },
      "execution_count": 27,
      "outputs": []
    },
    {
      "cell_type": "markdown",
      "source": [
        "## Async Download Chapter pages"
      ],
      "metadata": {
        "id": "ZVU8cWb8_8WX"
      }
    },
    {
      "cell_type": "code",
      "source": [
        "async def asyncDownload(url, browser):\n",
        "  NUM_THREADS = 4\n",
        "  queue = getFirstPage(url, browser, 0)\n",
        "  browser.quit()\n",
        "  print(queue)\n",
        "  if queue == -1:\n",
        "    return\n",
        "\n",
        "  # Adjust threads to queue size\n",
        "  if queue.qsize() < NUM_THREADS:\n",
        "    NUM_THREADS = queue.qsize()\n",
        "\n",
        "  # Instantiate task list and browsers\n",
        "  tasks = []\n",
        "  browsers = []\n",
        "  for i in range(NUM_THREADS):\n",
        "    browsers.append(getBrowser())\n",
        "    browsers.append(i)\n",
        "    print(f\"Starting browser {i}\")\n",
        "    task = asyncio.create_task(getChapterPages(queue, browsers[i], i))\n",
        "    tasks.append(task)\n",
        "\n",
        "  # Wait for all queue items to be downloaded\n",
        "  await queue.join()\n",
        "\n",
        "  # Quit all browsers\n",
        "  for browser in browsers:\n",
        "    browser.quit()\n",
        "\n",
        "  # Cancel all tasks\n",
        "  for task in tasks:\n",
        "    task.cancel()\n",
        "\n",
        "  # Wait for tasks to be canceled\n",
        "  await asyncio.gather(*tasks, return_exceptions=True)\n",
        "\n",
        "\n",
        "\n",
        "\n",
        "  # Error checking\n",
        "    # Check at the last chapter page\n",
        "    # Check if there is a next chapter page\n",
        "    # List of failed downloads"
      ],
      "metadata": {
        "id": "SYheEB7p_79-"
      },
      "execution_count": 28,
      "outputs": []
    },
    {
      "cell_type": "markdown",
      "source": [
        "## Zip up files to be downloaded"
      ],
      "metadata": {
        "id": "vxilu1N5-DbW"
      }
    },
    {
      "cell_type": "code",
      "source": [
        "def downloadZip(title):\n",
        "  directory = os.getcwd()\n",
        "\n",
        "  # List all files in the directory\n",
        "  all_files = os.listdir(directory)\n",
        "\n",
        "  # Specify the name of the zip file to create\n",
        "  zip_file_name = title + \".zip\"\n",
        "\n",
        "  # Create a zip file\n",
        "  with zipfile.ZipFile(zip_file_name, 'w') as zipf:\n",
        "      # Add each file in the directory to the zip file\n",
        "      for file in all_files:\n",
        "          file_path = os.path.join(directory, file)\n",
        "          zipf.write(file_path, os.path.basename(file_path))\n",
        "\n",
        "  print(\"Zip file created:\", zip_file_name)\n",
        "\n",
        "  files.download(directory + '/' + zip_file_name)"
      ],
      "metadata": {
        "id": "VqycNJAi-C_6"
      },
      "execution_count": 29,
      "outputs": []
    },
    {
      "cell_type": "markdown",
      "source": [
        "## Make and change to directory (book's title)"
      ],
      "metadata": {
        "id": "LbR20WyL-xqz"
      }
    },
    {
      "cell_type": "code",
      "source": [
        "def getDir(directory):\n",
        "  if not os.path.exists(directory):\n",
        "    os.mkdir(directory)\n",
        "    os.chdir(directory)\n",
        "  elif os.getcwd != directory:\n",
        "    os.chdir(directory)\n",
        "  else:\n",
        "    pass"
      ],
      "metadata": {
        "id": "BGtO7bt6-Q6Z"
      },
      "execution_count": 30,
      "outputs": []
    },
    {
      "cell_type": "code",
      "source": [],
      "metadata": {
        "id": "yecn7R4jzVxv"
      },
      "execution_count": 30,
      "outputs": []
    },
    {
      "cell_type": "code",
      "source": [
        "async def main1(url, title):\n",
        "    # Change directory\n",
        "    getDir(title)\n",
        "\n",
        "    # Start async downloading chapter pages\n",
        "    await asyncDownload(url, getBrowser())\n",
        "\n",
        "    # Zip and download chapters\n",
        "    downloadZip(title)"
      ],
      "metadata": {
        "id": "QRbJCTWt_UCw"
      },
      "execution_count": 31,
      "outputs": []
    },
    {
      "cell_type": "markdown",
      "metadata": {
        "id": "4pvQyXi8HZYK"
      },
      "source": [
        "### Input url"
      ]
    },
    {
      "cell_type": "code",
      "execution_count": 36,
      "metadata": {
        "id": "xi9DH-juGBLV",
        "colab": {
          "base_uri": "https://localhost:8080/",
          "height": 691
        },
        "outputId": "7ed8cfdb-c702-4ca1-a34f-b227608477ed"
      },
      "outputs": [
        {
          "output_type": "stream",
          "name": "stdout",
          "text": [
            "<Queue maxsize=0 _queue=['https://www.lightnovelpub.com/novel/advent-of-the-three-calamities/chapters?page=2', 'https://www.lightnovelpub.com/novel/advent-of-the-three-calamities-1678/chapter-1', 'https://www.lightnovelpub.com/novel/advent-of-the-three-calamities-1678/chapter-2', 'https://www.lightnovelpub.com/novel/advent-of-the-three-calamities-1678/chapter-3', 'https://www.lightnovelpub.com/novel/advent-of-the-three-calamities-1678/chapter-4', 'https://www.lightnovelpub.com/novel/advent-of-the-three-calamities-1678/chapter-5', 'https://www.lightnovelpub.com/novel/advent-of-the-three-calamities-1678/chapter-6', 'https://www.lightnovelpub.com/novel/advent-of-the-three-calamities-1678/chapter-7', 'https://www.lightnovelpub.com/novel/advent-of-the-three-calamities-1678/chapter-8', 'https://www.lightnovelpub.com/novel/advent-of-the-three-calamities-1678/chapter-9', 'https://www.lightnovelpub.com/novel/advent-of-the-three-calamities-1678/chapter-10', 'https://www.lightnovelpub.com/novel/advent-of-the-three-calamities-1678/chapter-11', 'https://www.lightnovelpub.com/novel/advent-of-the-three-calamities-1678/chapter-12', 'https://www.lightnovelpub.com/novel/advent-of-the-three-calamities-1678/chapter-13', 'https://www.lightnovelpub.com/novel/advent-of-the-three-calamities-1678/chapter-14', 'https://www.lightnovelpub.com/novel/advent-of-the-three-calamities-1678/chapter-15', 'https://www.lightnovelpub.com/novel/advent-of-the-three-calamities-1678/chapter-16', 'https://www.lightnovelpub.com/novel/advent-of-the-three-calamities-1678/chapter-17', 'https://www.lightnovelpub.com/novel/advent-of-the-three-calamities-1678/chapter-18', 'https://www.lightnovelpub.com/novel/advent-of-the-three-calamities-1678/chapter-19', 'https://www.lightnovelpub.com/novel/advent-of-the-three-calamities-1678/chapter-20', 'https://www.lightnovelpub.com/novel/advent-of-the-three-calamities-1678/chapter-21', 'https://www.lightnovelpub.com/novel/advent-of-the-three-calamities-1678/chapter-22', 'https://www.lightnovelpub.com/novel/advent-of-the-three-calamities-1678/chapter-23', 'https://www.lightnovelpub.com/novel/advent-of-the-three-calamities-1678/chapter-24', 'https://www.lightnovelpub.com/novel/advent-of-the-three-calamities-1678/chapter-25', 'https://www.lightnovelpub.com/novel/advent-of-the-three-calamities-1678/chapter-26', 'https://www.lightnovelpub.com/novel/advent-of-the-three-calamities-1678/chapter-27', 'https://www.lightnovelpub.com/novel/advent-of-the-three-calamities-1678/chapter-28', 'https://www.lightnovelpub.com/novel/advent-of-the-three-calamities-1678/chapter-29', 'https://www.lightnovelpub.com/novel/advent-of-the-three-calamities-1678/chapter-30', 'https://www.lightnovelpub.com/novel/advent-of-the-three-calamities-1678/chapter-31', 'https://www.lightnovelpub.com/novel/advent-of-the-three-calamities-1678/chapter-32', 'https://www.lightnovelpub.com/novel/advent-of-the-three-calamities-1678/chapter-33', 'https://www.lightnovelpub.com/novel/advent-of-the-three-calamities-1678/chapter-34', 'https://www.lightnovelpub.com/novel/advent-of-the-three-calamities-1678/chapter-35', 'https://www.lightnovelpub.com/novel/advent-of-the-three-calamities-1678/chapter-36', 'https://www.lightnovelpub.com/novel/advent-of-the-three-calamities-1678/chapter-37', 'https://www.lightnovelpub.com/novel/advent-of-the-three-calamities-1678/chapter-38', 'https://www.lightnovelpub.com/novel/advent-of-the-three-calamities-1678/chapter-39', 'https://www.lightnovelpub.com/novel/advent-of-the-three-calamities-1678/chapter-40', 'https://www.lightnovelpub.com/novel/advent-of-the-three-calamities-1678/chapter-41', 'https://www.lightnovelpub.com/novel/advent-of-the-three-calamities-1678/chapter-42', 'https://www.lightnovelpub.com/novel/advent-of-the-three-calamities-1678/chapter-43', 'https://www.lightnovelpub.com/novel/advent-of-the-three-calamities-1678/chapter-44', 'https://www.lightnovelpub.com/novel/advent-of-the-three-calamities-1678/chapter-45', 'https://www.lightnovelpub.com/novel/advent-of-the-three-calamities-1678/chapter-46', 'https://www.lightnovelpub.com/novel/advent-of-the-three-calamities-1678/chapter-47', 'https://www.lightnovelpub.com/novel/advent-of-the-three-calamities-1678/chapter-48', 'https://www.lightnovelpub.com/novel/advent-of-the-three-calamities-1678/chapter-49', 'https://www.lightnovelpub.com/novel/advent-of-the-three-calamities-1678/chapter-50', 'https://www.lightnovelpub.com/novel/advent-of-the-three-calamities-1678/chapter-51', 'https://www.lightnovelpub.com/novel/advent-of-the-three-calamities-1678/chapter-52', 'https://www.lightnovelpub.com/novel/advent-of-the-three-calamities-1678/chapter-53', 'https://www.lightnovelpub.com/novel/advent-of-the-three-calamities-1678/chapter-54', 'https://www.lightnovelpub.com/novel/advent-of-the-three-calamities-1678/chapter-55', 'https://www.lightnovelpub.com/novel/advent-of-the-three-calamities-1678/chapter-56', 'https://www.lightnovelpub.com/novel/advent-of-the-three-calamities-1678/chapter-57', 'https://www.lightnovelpub.com/novel/advent-of-the-three-calamities-1678/chapter-58', 'https://www.lightnovelpub.com/novel/advent-of-the-three-calamities-1678/chapter-59', 'https://www.lightnovelpub.com/novel/advent-of-the-three-calamities-1678/chapter-60', 'https://www.lightnovelpub.com/novel/advent-of-the-three-calamities-1678/chapter-61', 'https://www.lightnovelpub.com/novel/advent-of-the-three-calamities-1678/chapter-62', 'https://www.lightnovelpub.com/novel/advent-of-the-three-calamities-1678/chapter-63', 'https://www.lightnovelpub.com/novel/advent-of-the-three-calamities-1678/chapter-64', 'https://www.lightnovelpub.com/novel/advent-of-the-three-calamities-1678/chapter-65', 'https://www.lightnovelpub.com/novel/advent-of-the-three-calamities-1678/chapter-66', 'https://www.lightnovelpub.com/novel/advent-of-the-three-calamities-1678/chapter-67', 'https://www.lightnovelpub.com/novel/advent-of-the-three-calamities-1678/chapter-68', 'https://www.lightnovelpub.com/novel/advent-of-the-three-calamities-1678/chapter-69', 'https://www.lightnovelpub.com/novel/advent-of-the-three-calamities-1678/chapter-70', 'https://www.lightnovelpub.com/novel/advent-of-the-three-calamities-1678/chapter-71', 'https://www.lightnovelpub.com/novel/advent-of-the-three-calamities-1678/chapter-72', 'https://www.lightnovelpub.com/novel/advent-of-the-three-calamities-1678/chapter-73', 'https://www.lightnovelpub.com/novel/advent-of-the-three-calamities-1678/chapter-74', 'https://www.lightnovelpub.com/novel/advent-of-the-three-calamities-1678/chapter-75', 'https://www.lightnovelpub.com/novel/advent-of-the-three-calamities-1678/chapter-76', 'https://www.lightnovelpub.com/novel/advent-of-the-three-calamities-1678/chapter-77', 'https://www.lightnovelpub.com/novel/advent-of-the-three-calamities-1678/chapter-78', 'https://www.lightnovelpub.com/novel/advent-of-the-three-calamities-1678/chapter-79', 'https://www.lightnovelpub.com/novel/advent-of-the-three-calamities-1678/chapter-80', 'https://www.lightnovelpub.com/novel/advent-of-the-three-calamities-1678/chapter-81', 'https://www.lightnovelpub.com/novel/advent-of-the-three-calamities-1678/chapter-82', 'https://www.lightnovelpub.com/novel/advent-of-the-three-calamities-1678/chapter-83', 'https://www.lightnovelpub.com/novel/advent-of-the-three-calamities-1678/chapter-84', 'https://www.lightnovelpub.com/novel/advent-of-the-three-calamities-1678/chapter-85', 'https://www.lightnovelpub.com/novel/advent-of-the-three-calamities-1678/chapter-86', 'https://www.lightnovelpub.com/novel/advent-of-the-three-calamities-1678/chapter-87', 'https://www.lightnovelpub.com/novel/advent-of-the-three-calamities-1678/chapter-88', 'https://www.lightnovelpub.com/novel/advent-of-the-three-calamities-1678/chapter-89', 'https://www.lightnovelpub.com/novel/advent-of-the-three-calamities-1678/chapter-90', 'https://www.lightnovelpub.com/novel/advent-of-the-three-calamities-1678/chapter-91', 'https://www.lightnovelpub.com/novel/advent-of-the-three-calamities-1678/chapter-92', 'https://www.lightnovelpub.com/novel/advent-of-the-three-calamities-1678/chapter-93', 'https://www.lightnovelpub.com/novel/advent-of-the-three-calamities-1678/chapter-94', 'https://www.lightnovelpub.com/novel/advent-of-the-three-calamities-1678/chapter-95', 'https://www.lightnovelpub.com/novel/advent-of-the-three-calamities-1678/chapter-96', 'https://www.lightnovelpub.com/novel/advent-of-the-three-calamities-1678/chapter-97', 'https://www.lightnovelpub.com/novel/advent-of-the-three-calamities-1678/chapter-98', 'https://www.lightnovelpub.com/novel/advent-of-the-three-calamities-1678/chapter-99', 'https://www.lightnovelpub.com/novel/advent-of-the-three-calamities-1678/chapter-100'] tasks=101>\n",
            "Starting browser 0\n",
            "Starting browser 1\n",
            "Starting browser 2\n",
            "Starting browser 3\n",
            "Thread 0 getChapterPages trying url: https://www.lightnovelpub.com/novel/advent-of-the-three-calamities/chapters?page=2...\n",
            "Thread 1 attempting to download url: https://www.lightnovelpub.com/novel/advent-of-the-three-calamities-1678/chapter-1\n",
            "Thread 2 attempting to download url: https://www.lightnovelpub.com/novel/advent-of-the-three-calamities-1678/chapter-2\n",
            "Thread 3 attempting to download url: https://www.lightnovelpub.com/novel/advent-of-the-three-calamities-1678/chapter-3\n",
            "[<p>'Uh... I'm still alive?'</p>, <p>There was no way. But... I was starting to doubt it. That was despite feeling certain that I had drawn my last breath.</p>, <p>It was the only logical conclusion I could make as I found myself standing on the remains of a city.</p>, <p>My sinuses clogged up as a result of the smoke that lingered in the air, and I heard a low, steady ringing in my head at the same time. Sort of like the buzz of a mosquito, but a lot more annoying than that.</p>, <p>With all of that taken into account, I was certain that there was something wrong with the situation. I felt there, yet not at the same time.</p>, <p>If that made any sense?</p>, <p>Must be some sort of hallucination one experiences before death.</p>, <p>It had to be.</p>, <p>I was more convinced of this when I found myself standing amidst the ruins of a city unknown to me, confused by the peculiar architecture of the buildings. They appeared to belong to a distinct era, unlike anything familiar to my own.</p>, <p>How weird.</p>, <p>The entire situation was weird and I had trouble wrapping my head around it.</p>, <p>Despite my eagerness in wanting to find out more about what was happening to me and what the city around me was, I couldn't.</p>, <p>I was stuck where I was.</p>, <p>Or more like, I was trapped.</p>, <p>I could see, smell, hear, taste, and touch just fine. It was just that, I had no control over my body. I felt as though I were a marionette, manipulated by an external force.</p>, <p>Rumble! Rumble!</p>, <p>My focus was captured by a distant rumble, prompting my head to turn toward the source of the sound. A voice unknown to me emerged, flowing from my lips.</p>, <p>\"It's about time... I thought they'd be slower.\"</p>, <p>There was something about the voice. It sounded unnatural. Almost robotic in my ears, but I couldn't quite tell.</p>, <p>Just what is happening?</p>, <p>I was flustered, but what else could I do? There was no way out for me, and all I could do was just observe.</p>, <p>BOOOM—!</p>, <p>A distant building disintegrated, and from within its ruins emerged a particular figure.</p>, <p>Our eyes met, and I instantly sensed an overwhelming weight pressing down on my body, stifling me.</p>, <p>\"I... finally found you!\"</p>, <p>A screeching voice reverberated through the air and the sky turned a scarlet color.</p>, <p>The pressure that bore down on me increased, and she soon appeared before my very eyes.</p>, <p>She was... breathtaking.</p>, <p>More so than anyone I'd ever seen in my life, making me further question the validity of what I was seeing.</p>, <p>Adorned with flowing, fiery red locks cascading down her back, her hair danced in the sunlight, displaying hues of crimson, copper, and gold, as if flames had been artfully woven into the fibers of her hair.</p>, <p>But it was her eyes that truly caught my attention. Gleaming like golden orbs, they possess a depth and brilliance that seemed to reflect the distant sun.</p>, <p>'Just what is happening?...and why is she looking at me like that?'</p>, <p>She seemed eerily familiar, yet at the same time wasn't. I more or less knew that I had seen her before, but I couldn't quite picture when.</p>, <p>\"Is that all you have to say to me?\"</p>, <p>Her gaze contained a little something. I couldn't quite understand what it was... perhaps longing? Disappointment? I wasn't too sure.</p>, <p> \"H—\"</p>, <p>My mouth had just parted open when all of a sudden, the sky which had previously dyed red, turned a purplish hue, and lightning began to crackle down from the sky.</p>, <p>Cracka! Cracka!</p>, <p>It tore at everything beneath, destroying the buildings and infrastructures with an unstoppable might.</p>, <p>In a matter of moments, the clouds ruptured, unveiling the silhouette of a woman. Her vibrant purple hair swayed gracefully through the expanse of the sky, while her piercing gaze, brimming with an overwhelming sense of animosity, fixated upon me.</p>, <p>Cracka! Cracka!</p>, <p>The sky continued to be ravaged by relentless lightning, intensifying the pressure that oppressed every inch of my being. The force was so formidable that my legs nearly buckled beneath me.</p>, <p>Yet, inexplicably, the individual I was presently \"possessing\" displayed unwavering stubbornness. My bones cracked, and I was having a hard time breathing under the extreme pressure.</p>, <p>Yet.</p>, <p>As if what I was experiencing meant nothing.</p>, <p>I remained standing where I was.</p>, <p>\"So... you're finally here too.\"</p>, <p>His voice carried through the air, reaching the woman with lustrous, purple hair suspended in mid-air.</p>, <p>The lightning surrounding her crackled with increased intensity, while her gaze seethed with amplified hatred. However, she remained immobile, as if she couldn't move at all.</p>, <p>That was when I felt my lips curl, and the world underwent another change.</p>, <p>From Red to Purple... to Black.</p>, <p>Abruptly, darkness engulfed my sight, causing the distant city to vanish entirely. The sky dissipated, and everything in my surroundings vanished, leaving only the two women ahead of me.</p>, <p>Emerging from the depths of the inky abyss, a figure took shape in the distance. Her eyes, a vivid shade of crimson, radiated with an intense luminosity that pierced through the darkness, unveiling a cascade of snowy white hair flowing down her shoulders.</p>, <p>She too...</p>, <p>Looked at me with nothing but hatred.</p>, <p>Ah... I get it now.</p>, <p>Her appearance was what it took to make me understand.</p>, <p>Understand why they felt so familiar to me before.</p>, <p>'They're the same girls from the game that my brother showed me before.'</p>, <p>Just before my death. There was one game my brother continued to talk about. 'Rise of the Three Calamities.'</p>, <p>I didn't know much about the game as I never got the chance to play it, but it was something my brother was enthusiastic about.</p>, <p>He wouldn't stop talking about it…</p>, <p>The pieces of the puzzle fell into place as soon as all three appeared before me, triggering a recollection of the game's cover. Although I had only glimpsed it briefly without giving it much thought, it took me a moment to jog my memory.</p>, <p>But now, I was certain.</p>, <p>The three women who stood in front of me... glaring at me with such hatred that made my heart palpitate, were the same Three Calamities that belonged to the game my brother showed me just before my death.</p>, <p>Or what I thought was my death. Was I still dead? I wasn't too sure anymore.</p>, <p>They were most likely the older version of the girls on the background of the cover.</p>, <p>Contrary to their youthful portrayal on the cover, the women before me appeared considerably older.</p>, <p>Their gazes deviated greatly from the playful depiction on the cover, radiating an unrelenting aura of bloodlust that seemed to want to eat me alive.</p>, <p>\"How long has it been since we've last been together?\"</p>, <p>My mouth parted. This time, I could hear the voice more clearly. It sounded oddly calm despite the situation he was in.</p>, <p>None of the girls spoke. They just stared at me with the same expressions on their faces.</p>, <p>My lips curled further.</p>, <p>\"I like those expressions.\"</p>, <p>My hand reached forward all of a sudden and a black chalice materialized, seemingly out of thin air, landing securely in my grasp. Enclosed within its confines, a peculiar black liquid resided.</p>, <p>Rumble—! Rumble—!</p>, <p>The appearance of the chalice seemed to have triggered something as the world suddenly started to quake fiercely.</p>, <p>The girls' expressions changed dramatically and the pressure that bore on me intensified.</p>, <p>Yet, despite it all. 'I' remained where I was.</p>, <p>\"S-stop!\"</p>, <p>\"Fuck, stop this bastard!\"</p>, <p>Strings of curses flew my way, but the only response was a slight raise of the cup.</p>, <p>\"Nooo!\"</p>, <p>As the chalice approached my lips, a fleeting moment allowed me to steal a glance at my own visage, mirrored within the depths of the dark liquid residing inside.</p>, <p>Handsome.</p>, <p>Was all I could think of as I stared at the man reflected within the liquid of the chalice.</p>, <p>'Is this me?'</p>, <p>There was an air of confidence and allure that emanated from him that perfectly matched the disposition he displayed.</p>, <p>His intense, hazel eyes held a mesmerizing depth, shimmering under the blackness of the liquid, matching his lustrous black hair. The strong, chiseled features of his face were accentuated by a well-defined jawline and a perfectly proportioned nose.</p>, <p>Never in my life had I ever seen anyone this handsome.</p>, <p>'Ha, I really must be dead...'</p>, <p>Rumble—! Rumble—!</p>, <p>The world around me seemed to completely crumble. Before I knew it, the three girls were already upon me. Coming from all sides.</p>, <p>Their power sent shivers down my spine.</p>, <p>But despite it all. 'I' remained where I was, feeling a slight curl at the end of my lips as the chalice drew to my mouth and I took a sip.</p>, <p>'It's bitter.'</p>, <p>Pfttt—!</p>, <p>At that very moment, as the initial sip of liquid touched my lips, a searing agony tore through me.</p>, <p>I felt something drip from the side of my mouth as my head slowly lowered. It was there that I caught a glimpse of a large sword.</p>, <p>It passed right through my chest.</p>, <p>Drip... Drip...</p>, <p>Red stained the top of the sword as it dripped from the corner of my mouth.</p>, <p>Slowly, my head turned, and it was there that I caught a glimpse of two dull grey eyes staring back at me.</p>, <p>\"Right. I forgot about you.\"</p>, <p>The words came flawlessly out of my mouth. As if nothing had happened. But I knew. I knew better than anyone that he was merely on his last straw.</p>, <p>Yet.</p>, <p>I remained standing. Proudly. In front of everyone.</p>, <p>Gulp—!</p>, <p>And with a gulp, the world around me turned dark.</p>, <p>The next moment I woke up, I found a large screen floating before my very eyes.</p>, <p>— ●[Julien D. Evenus]● —</p>, <p>Level :17 [Tier 1 Magician]</p>, <p>Exp : [0%—[16%]100%]</p>, <p>Profession : Magician</p>, <p>﹂ Type : Elemental [Curse]</p>, <p>﹂ Type : Mind [Emotive]</p>, <p>Spells :</p>, <p>﹂ Beginner type spell [Emotive] : Anger</p>, <p>﹂ Beginner type spell [Emotive] : Sadness</p>, <p>﹂ Beginner type spell [Emotive] : Fear</p>, <p>﹂ Beginner type spell [Emotive] : Happiness</p>, <p>﹂ Beginner type spell [Emotive] : Disgust</p>, <p>﹂ Beginner type spell [Emotive] : Surprise</p>, <p>﹂ Beginner type spell [Curse] : Chains of Alakantria</p>, <p>﹂ Beginner type spell [Curse] : Hands of Malady</p>, <p>Skills :</p>, <p>[Innate] - Foresight</p>, <p>— ●[Julien D. Evenus]● —</p>]\n",
            "Thread 0 attempting to download url: https://www.lightnovelpub.com/novel/advent-of-the-three-calamities-1678/chapter-4\n",
            "Thread 2 attempting to download url: https://www.lightnovelpub.com/novel/advent-of-the-three-calamities-1678/chapter-5\n",
            "[<p>Lead the way... To where?</p>, <p>The echo of my footsteps rang in my ears as I followed the man from the vision from behind.</p>, <p>He seemed younger than the vision, and was it just me, or did he look pale?</p>, <p>Still.</p>, <p>Thinking back to my actions, I had acted purely out of instinct.</p>, <p>I knew nothing about the situation. Nor who the man in front of me was. No, not quite... I had an idea. One that I refused to believe.</p>, <p>However...</p>, <p>If there was something clear to me, it was that whoever the man in front of me was, he could kill me at a moment's notice.</p>, <p>One wrong move and I was dead.</p>, <p>\"Master has asked that you manage to pass the examination. In case of failure, he is prepared to exonerate you from the family.\"</p>, <p>His cold and even tone resounded across the empty corridor as he moved ahead of me.</p>, <p>I remained silent throughout the entire time.</p>, <p>\"It's important that you pass the examination. I can't stress that enough. For my sake as well.\"</p>, <p>\"...\"</p>, <p>Examination?</p>, <p>What examination?</p>, <p>I strained my ears and listened attentively. Every piece of information was vital for me.</p>, <p>\"That said, I don't believe a situation like that will happen. You're more than capable of passing the examination. At the very least, you shouldn't be worse than the commoners who only had one year of practice.\"</p>, <p>He continued to speak along the way. As I listened to his words, my eyes couldn't help but trace toward my surroundings.</p>, <p>What sort of place is this?</p>, <p>The corridor seemed vast. Large windows lit up the corridors with purple curtains draped around them. It gave off a medieval vibe.</p>, <p>But there was no way, right? How could it...</p>, <p>\"...We're here, young master.\"</p>, <p>I had no time to adjust myself to my surroundings before I found myself standing in front of a large wooden door.</p>, <p>My feet came to a halt and he pushed the door open to reveal a large hall where hundreds of people stood. They all lined up in an orderly manner, facing another door at the very end of the hall.</p>, <p>\"You are...?\"</p>, <p>A woman with short black hair and glasses approached me. She held a clipboard in her hand and scanned me up and down.</p>, <p>My heart grew tense at her appearance.</p>, <p>I thought back on her question, 'You are?' and found myself unable to answer.</p>, <p>I'd like to know that as well.</p>, <p>\"...\"</p>, <p>Even so, I kept my composure. We stood like that for a couple of seconds before her eyes fell on my chest where realization finally hit her.</p>, <p>\"Ah, you must be from the Evenus Barony.\"</p>, <p>She glanced at her clipboard.</p>, <p>\"Julien Dacre Evenus. I see you.\"</p>, <p> Julien Dacre Evenus?</p>, <p>Tapping the board, she smiled.</p>, <p>\"Please follow me. I'll lead you to the examiners.\"</p>, <p>I secretly sighed in relief before glancing back for a brief moment. My eyes met his for a moment and he nodded. I looked away and followed the lady.</p>, <p>She seemed to be leading me toward the large door in the distance. I could feel the gazes of those around me as I moved. However, I paid them no mind.</p>, <p>Not because I didn't want to, but because I couldn't spare them the thought.</p>, <p>The closer I was to the door the faster my heart started to beat.</p>, <p>The only thing I knew was that I had to take an examination. What sort of examination, I didn't know.</p>, <p>My palms felt sweaty and my legs felt like lead.</p>, <p>Each step felt heavier than the last.</p>, <p>The only reason I followed along was purely because the situation forced me to.</p>, <p>It felt like I had to move.</p>, <p>But what now?</p>, <p>What was I supposed to do now?</p>, <p>\"We're here. Please don't be too nervous. They won't bite.\"</p>, <p>The woman graciously opened the door, unveiling the expanse of a generously decorated room. Elegant paintings adorned the walls, flanking the space alongside pristine white pillars.</p>, <p>What grabbed my attention was the large wooden desk that sat in the middle of the room where four individuals sat. In front of them was a boy with blonde hair and blue eyes. He wore a strange uniform and stood upright in front of the four individuals.</p>, <p>I felt a terrifying pressure coming from the four of them, and amongst them, a woman with long flowing black hair grabbed my attention.</p>, <p>She seemed the center of the four people, not just because of her looks, but because of the aura she gave off.</p>, <p>She had something beyond her beauty... Something I couldn't quite explain.</p>, <p>Just what sort of...?</p>, <p>\"You must be Julien.\"</p>, <p>Her lips curled slightly as she glanced at the papers before her. Looking away, she pointed ahead.</p>, <p>\"You must be here for the examination. Please make your way toward the center.\"</p>, <p>\"...\"</p>, <p>I had no choice but to follow along.</p>, <p>It only became more evident to me that there was something wrong with the people in front of me when I closed in on them. I couldn't quite describe it... but just standing close to them felt extremely pressuring.</p>, <p>As if boulders were being pressed against my back.</p>, <p>Even so, I held onto my composure and kept my face firm.</p>, <p>But that only lasted a second before I felt my right forearm sting. What's going on? When I looked down, I realized that one of the four leaves from the tattoo had lit up.</p>, <p>Why was it...</p>, <p>As if bewitched, my body moved on its own and my finger hovered over it. I was surprised by the sudden development, but before I could snap out of it, my finger went down.</p>, <p>And.</p>, <p>I pressed it.</p>, <p>.</p>, <p>.</p>, <p>.</p>, <p>\"...Huh?\"</p>, <p>The world turned pitch black.</p>, <p>All my senses seemed to disappear. Silence pervaded over the pitch-black space with nothing in sight. It felt as if I was levitating in an endless and lonely space.</p>, <p>It felt suffocating.</p>, <p>I was stuck in place, floating in this endless darkness that seemed to stretch endlessly. My consciousness was blurry, but I was aware of everything that was happening around me.</p>, <p>Was everything I previously saw another vision?</p>, <p>Is this what death feels like?</p>, <p>...It felt lonely.</p>, <p>And cold.</p>, <p>'Ah.'</p>, <p>The sensation didn't carry on for long. All of a sudden, a current ran through my body, jolting my consciousness awake.</p>, <p>When I came to, I realized I could finally move my body again.</p>, <p>Even so.</p>, <p>My surroundings were still dark.</p>, <p>'Hello?'</p>, <p>I tried to speak, but my mouth refused to open.</p>, <p>\"...\"</p>, <p>I held onto my composure and pushed away the anxiety and fear that was creeping up on my mind. I didn't let the darkness eat away at my sanity.</p>, <p>Not yet.</p>, <p>'Hm?'</p>, <p>Just as I regained my composure, I spotted a bright light in the distance. A light...? It grew brighter by the second, its glow basking me in warmth.</p>, <p>It felt comfortable.</p>, <p>To the extent that I found my eyes slowly closing in relaxation.</p>, <p>'...Uh?'</p>, <p>When I opened them again, I was stunned by the sight before me and I held my breath.</p>, <p>'A wheel?'</p>, <p>Six colors, and six words.</p>, <p>Red - Anger</p>, <p>Purple - Fear</p>, <p>Blue - Sadness</p>, <p>Green - Surprise</p>, <p>Orange - Love</p>, <p>Yellow - Joy</p>, <p>A long red arrow pointed upward, currently resting on the color red.</p>, <p>Anger.</p>, <p>'What is this...?'</p>, <p>The six basic human emotions? I remember studying this back in psychology class, but why...</p>, <p>Trrrrr--!</p>, <p>\"...!\"</p>, <p>The wheel began to spin on its own.</p>, <p>'...What's going on?!'</p>, <p>The colors alternated between red, purple, blue, green, orange, and yellow... They spun and spun and spun.</p>, <p>A deep sense of unease held me rooted. My eyes were fixed on the red arrow that remained firm.</p>, <p>The wheel continued to spin, and the colors continued to alternate. Gradually, the wheel lost its momentum before finally stopping.</p>, <p>'Purple.'</p>, <p>Fear.</p>, <p>Now what? My palms were sweaty, and the deep sense of unease that gripped my body seemed even more prominent.</p>, <p>Swoosh--!</p>, <p>And I was right to feel that way.</p>, <p>All of a sudden, the ground beneath me quaked. I almost lost my footing, and just as I regained it, I was shocked to see buildings sprouting from the ground beneath.</p>, <p>\"What...? Uh?!\"</p>, <p>I held my mouth.</p>, <p>\"I can speak again?\"</p>, <p>No, not just that... I looked around me. I was surrounded by buildings. No, not quite. They seemed to be ruins. The architecture reminded me of the one from the vision, but they were covered in vines and moss.</p>, <p>I couldn't quite get a good grasp of it since it was dark outside. However, from the corner of my eyes, I could make out faint figures in the distance.</p>, <p>Shadows?</p>, <p>Swoosh--!</p>, <p>A shiver ran through me as the cold wind caressed my skin. I grew tense, feeling a sensation that was akin to the gentle touch of two fingers slowly crawling their way up my arm.</p>, <p>\"Haa... Haa...\"</p>, <p>I felt my breath grow heavy, and as I tried to swallow, I found myself unable to. Something had gripped my throat. Something imaginary.</p>, <p>It prevented me from swallowing.</p>, <p>\"H-hah.\"</p>, <p>My chest trembled.</p>, <p>'There's nothing in front of me...'</p>, <p>So why...?</p>, <p>Why did I feel so scared?</p>, <p>\"Haa... Haaa...\"</p>, <p>I gripped my shirt, slowly wrinkling it in the process. There, I could feel the beat of my heart.</p>, <p>It was fast.</p>, <p>Ba... Thump! Ba... Thump!</p>, <p>And loud.</p>, <p>\"Ha...\"</p>, <p>My breath followed its rhythm.</p>, <p>It went faster.</p>, <p>And faster.</p>, <p>faster....</p>, <p>\"Haa... Haa.. Ha...\"</p>, <p>I was hyperventilating.</p>, <p>My palms were sweaty and sweat trickled down the side of my face.</p>, <p>Fear had gripped me.</p>, <p>It was slowly consuming me.</p>, <p>I could feel it.</p>, <p>But why?</p>, <p>'...I need to run. Get away from here.'</p>, <p>My legs started to move. All thoughts disappeared and I just ran. Faster. And faster. And faster...</p>, <p>Soon, I found myself sprinting forward. I ran as if my life depended on it. I didn't know why I was acting like this, but if there was something I knew it was that I needed to run.</p>, <p>Get as far away as possible.</p>, <p>\"Ukh..!\"</p>, <p>I stumbled several times, scraping my knees in the process, but each time, I'd pick myself back up again and continue to run. I ignored the burning sensation that came with each breath that I took.</p>, <p>The only thought I had in my mind was that I needed to run.</p>, <p>I needed to get away from the shadows.</p>, <p>\"Haaa... Haaa.... Haaa...\"</p>, <p>I'd look back from time to time, catching sight of them each time. The distance between us remained constant. Are they not running out of breath as well?...I can't keep this up for long.</p>, <p>The pain that gripped my lungs intensified. It was as if I was breathing fire.</p>, <p>But I had to hold on.</p>, <p>Not yet.</p>, <p>Not...</p>, <p>Bang--!</p>, <p>My face came smashing against a hard surface.</p>, <p>\"Uakh...!\"</p>, <p>Ignoring the pain, I looked up.</p>, <p>\"No, I....\"</p>, <p>A shadow appeared. Its appearance remained a mystery to me. It wobbled in front of me, staring down at me as if I were some sort of prey.</p>, <p>\"Ah... Don't...\"</p>, <p>The sense of fear that gripped me intensified.</p>, <p>It was almost suffocating.</p>, <p>\"I... I...\"</p>, <p>The words refused to leave my mouth.</p>, <p>And then.</p>, <p>\"Uekh!\"</p>, <p>The shadow reached out for my throat, gripping it tightly. My eyes bulged, and I felt my body grow limp.</p>, <p>Ah, no... I'm going to die. I'm going to die. I'll die...!</p>, <p>The feeling of helplessness under its grip, the steady thump of my heart, the weakness, and the gripping fear--all of it was etched deeply into my mind during those last moments.</p>, <p>What I was experiencing...</p>, <p>It was real.</p>, <p>And then.</p>, <p>Cr Crack--!</p>, <p>I felt my neck snap and the world turned dark again.</p>, <p>Only for a brightness to suddenly engulf me.</p>, <p>\"Examinee? Examinee?\"</p>, <p>\"Ah...?\"</p>, <p>I slowly raised my head. Four figures sat not far from where I was standing. They all stared at me with frowns while a young man with blonde hair stood not far from me.</p>, <p>'Isn't this...?'</p>, <p>Slowly lowering my head, I stared at my right forearm where the tattoo was. It no longer hurt, and it wasn't glowing anymore.</p>, <p>But.</p>, <p>My arm was trembling.</p>, <p>The emotions I felt before... They continued to linger over me. I couldn't get rid of the sensation. It felt suffocating.</p>, <p>I needed an outlet.</p>, <p>An outlet to let everything out.</p>, <p>\"Examinee? Is everything alright? We don't have all day.\"</p>, <p>One of the people seated in front of me, a bulky man with a red beard raised his eyebrow, pointing at the young man in front of me.</p>, <p>\"...Show as what you've got.\"</p>, <p>\"Ah.\"</p>, <p>My feet moved on their own.</p>, <p>As if I had finally found what I needed, I moved toward the young man in front of me. He was staring back at me with a frown. As if he was trying to say, 'What is he doing?'</p>, <p>But I didn't care.</p>, <p>I paid him no mind and continued forward.</p>, <p>Before I knew it, I was standing before him. Just as his mouth opened to say something, my hands reached out for his head, grasping both sides solidly. My hands were still shaking but I kept a firm grip on his head.</p>, <p>His expression changed.</p>, <p>\"You, what are you...!\"</p>, <p>But I didn't care.</p>, <p>Feeling the sides of his face, my mouth parted open as I softly mumbled,</p>, <p>\"Fear.\"</p>, <p>My mind blanked from then on.</p>, <p>I lost myself in the moment.</p>, <p>When I came to, I was standing in the same spot I was before. My hands were no longer shaking, and my mind seemed calmer.</p>, <p>Or so I thought.</p>, <p>\"H-help...! Haa.. Haa...!\"</p>, <p>When I looked down, I was stunned to see the young man from before on the ground. His face was pale, and he held his head with both hands while mumbling things like, 'Ah... I'm sorry...! Ah...'</p>, <p>As our eyes met, his expression distorted and his pupils dilated.</p>, <p>\"Ahhh...! N-no...!\"</p>, <p>He hastily moved back.</p>, <p>What is going on...</p>, <p>\"Ah.\"</p>, <p>A small screen appeared in front of me.</p>, <p>That was when I understood.</p>, <p>Lvl 1. [Fear] EXP + 10%</p>, <p>I did this.</p>]\n",
            "[<p>Expectations were minimal before his entrance.</p>, <p>Behind their desk, the four examiners conversed with each other, reviewing the files of the examinees.</p>, <p>\"The overall talent level is lower than last year. It's rather disappointing if I'm being honest. At this rate, the other institutes within the empire will catch up to us.\"</p>, <p>The man with the red beard mumbled—Herman Chambers, a High-Wizard, and a man known for his discernible eye for talent. As such, he was put in a position of recruitment for the upcoming year at the Haven Institute.</p>, <p>Just by visualizing the flow of mana coming from an examinee's body, he could more or less tell if they were talented or not.</p>, <p>From the thickness, and its purity... He'd be able to discern the overall level of the examinee before they even performed.</p>, <p>\"Please bring the next examinee.\"</p>, <p>Compared to last year, the talents were severely lacking.</p>, <p>But.</p>, <p>\"We've found a couple of little monsters, haven't we?\"</p>, <p>There were a few exceptions.</p>, <p>And those few exceptions were far above the norm.</p>, <p>\"...I guess you're right.\"</p>, <p>Herman crossed his arms and leaned back on the chair. From the corner of his eyes, he glanced at the woman sitting beside him.</p>, <p>She adorned herself in formal attire, exuding a near-perfect aura. Her captivating presence left a profound impact on those around her. The flawless combination of appearance and clothing made her stand out from the rest.</p>, <p>Delilah V. Rosemberg.</p>, <p>There were no imperfections or voids in her, to the extent that she appeared to embody perfection itself.</p>, <p>Elegance seamlessly permeated her every action, word, and facial expression, defining her entire being.</p>, <p>She was an unreachable being to many.</p>, <p>Apprentice at 18.</p>, <p>Master-Mage at 19.</p>, <p>High-Wizard at 21.</p>, <p>Arch-Wizard at 24.</p>, <p>And one of the Empire's Seven Monarchs at 27.</p>, <p>Many foresaw her as the future of the Empire, destined to fill a position that had remained vacant for centuries—the most formidable mage among them all.</p>, <p>The Zenith.</p>, <p>'How can someone like her work here...?'</p>, <p>Such a question stumped many, Herman included, but whenever someone asked, all she'd return was an empty smile.</p>, <p>She wasn't a woman of many emotions, but when she did show emotions...</p>, <p>One'd feel chills.</p>, <p>\"...Our next examinee should be from a Barony.\"</p>, <p>Her crisp and clean tone rang in the room. It lacked substance and yet seemed to pressure at the same time.</p>, <p>\"Julien Dacre Evenus.\"</p>, <p>She mumbled a name, almost chewing on it as her eyes lingered over the document in front of her.</p>, <p>\"Talent. Elemental and... Emotive.\"</p>, <p> \"Emotive?\"</p>, <p>Herman raised his brow and picked up the document in front of him. 'Indeed, he has talent in the emotive field...' His expectations diminished.</p>, <p>It wasn't that he hated Emotive Mages, or looked down on them.</p>, <p>But.</p>, <p>\"It's tough.\"</p>, <p>Muttering with crossed arms and a dismissive shake of her head, Cathrine Riley Graham, a middle-aged woman with long flowing brown hair, expressed her thoughts.</p>, <p>\"An emotive Mage deals with the manipulation of emotion. It's not a rare talent, but...\"</p>, <p>Pursing her lips, she halted mid-sentence, allowing for another voice to complete the sentence for her.</p>, <p>\"...One might lose themselves if they immerse themselves too much into the study of emotions.\"</p>, <p>\"That's right.\"</p>, <p>The Emotive field was a dangerous field. To study emotions... Understand them. One had to immerse themselves in them.</p>, <p>Immerse yourself too much... and you might end up losing sight of yourself.</p>, <p>\"I've seen my fair share of talented ones lose their minds trying to further their path. It's unfortunate. Really unfortunate...\"</p>, <p>\"Well, at least he's talented in the Elemental field. Curse Magic? Not a bad field.\"</p>, <p>There were no bad elements.</p>, <p>Only bad people.</p>, <p>Closely examining the paper in front of him, the door to the room opened. A young man in his late teens entered.</p>, <p>\"You must be Julien.\"</p>, <p>Delilah spoke, her crisp and clean voice ringing throughout the room.</p>, <p>His appearance grabbed the attention of all present.</p>, <p>'He's handsome, but... disappointing.\"</p>, <p>Herman's first impression of Julien was one of disappointment.</p>, <p>'His mana flow is irregular. The density is light and he doesn't seem to have control over it.'</p>, <p>Was he really a noble? As if he wasn't the only one who thought this, Catherine mumbled,</p>, <p>\"Seems like this one is a bit of a bust. Disappointing considering that he's a noble.\"</p>, <p>Herbert Newberman, sitting on Herman's right, shared similar thoughts with her.</p>, <p>\"His mana flow is all over the place. At first glance, he doesn't seem to know how to properly utilize mana. What a rough batch...\"</p>, <p>In the mind of the examiners, Julien seemed to have come in vain. His performance was going to be one that they'd need to erase from their minds.</p>, <p>But if there was one thing to take note of, it was his demeanor.</p>, <p>The way he carried himself... His expressionless face, and calm even steps...</p>, <p>It seemed to exude boundless confidence.</p>, <p>An overconfident idiot?</p>, <p>'Well, whatever. Let's get this over with. I've seen worse.'</p>, <p>Herman nudged the young man that stood in front of them.</p>, <p>\"Jason, go test him.\"</p>, <p>He was a first-year, or more like second-year now... cadet. He wasn't exactly the most talented cadet, but to test new examinees he was good enough.</p>, <p>\"Yes, sir.\"</p>, <p>Jason began to move, but just as he had taken a step forward, his face changed.</p>, <p>So did that of all the examiners.</p>, <p>\"What is he doing?\"</p>, <p>\"...Is he checking his pulse?\"</p>, <p>\"What sort of nonsense is this?\"</p>, <p>With a blank expression and finger pressed against his forearm, Julien stared ahead. He seemed out of it.</p>, <p>His face was blank.</p>, <p>Like that of an empty sheet of paper.</p>, <p>\"What is this guy doing...?\"</p>, <p>\"Examinee? Examinee?\"</p>, <p>Herman called out for him several times until he snapped out of it.</p>, <p>\"Ah...?\"</p>, <p>\"Examinee? Is everything alright? We don't have all day.\"</p>, <p>He irritably pointed at Jason.</p>, <p>\"...Show as what you've got.\"</p>, <p>Just as Herman pointed at Jason, a sudden change occurred with Julien. His pupils dilated. His face paled, and his arms began to tremble.</p>, <p>His sudden change took everyone aback.</p>, <p>Julien's eyes trembled, darting around hastily with an air of desperation. He seemed to transform all of a sudden, a complete difference from how he previously was.</p>, <p>His shoulders shrunk and his breathing quickened.</p>, <p>\"Haa... Haaa... Haaa...\"</p>, <p>Everyone could feel the rhythm of his breath.</p>, <p>It was getting faster with each breath.</p>, <p>He seemed to be the embodiment of a certain emotion.</p>, <p>What emotion...?</p>, <p>Ah.</p>, <p>It soon became clear to everyone.</p>, <p>'Fear.'</p>, <p>He had started to embody fear.</p>, <p>Herman felt a chill run down his body.</p>, <p>Not just him, but the other examiners too.</p>, <p>\"You, what are you...!\"</p>, <p>Julien walked up to Jason. Perhaps taken aback by the situation, he wasn't able to react on time. Julien's hands came pressing against his skull, squeezing almost.</p>, <p>And,</p>, <p>\"Ahhhhhh...!!!!\"</p>, <p>A scream shook the room.</p>, <p>It pierced through it and reverberated loudly in the ears of everyone present.</p>, <p>Suddenly, everyone in the room was motionless, not just Herman, Herbert, and Catherine, but Delilah too.</p>, <p>The impact of Julien's action was just that powerful.</p>, <p>With one single action, he left everyone in the room frozen.</p>, <p>\"Ah...! No! Ahhhhh...! I don't want to die, no!!!\"</p>, <p>It was intense, and one could vividly feel the fear that Jason was feeling.</p>, <p>Goosebumps.</p>, <p>Herman felt goosebumps.</p>, <p>\"Ahhh...!\"</p>, <p>Thump!</p>, <p>Jason fell liplessly to the floor.</p>, <p>Shaking uncontrollably, he clutched his head while writhing on the floor. Saliva spilled from his mouth.</p>, <p>\"H...Help...!\"</p>, <p>Despite his cries, none of the examiners moved.</p>, <p>All eyes were fixed on the young man that stood before them.</p>, <p>What was in front of them was the embodiment of someone who threaded a path hardly anyone took.</p>, <p>Recalling, Herman mumbled out loud,</p>, <p>\"For one to understand an emotion one must experience it.\"</p>, <p>To display such fear, one must experience it. Everyone in the room was well-versed and knew this much.</p>, <p>They had traveled all over the continent and met many Emotive Mages. From there, they learned of the harshness that one who threads such a path must endure.</p>, <p>To experience fear, one must relentlessly chase after it.</p>, <p>Many failed in their paths, dying in the middle of training, or simply not being able to understand the emotion.</p>, <p>And yet,</p>, <p>\"What sort of gruesome training did he undergo to display such emotion?\"</p>, <p>Julien was able to do what many couldn't. He was far from perfection, but to be able to do this at such an age...</p>, <p>'Just how harsh has he been on himself?'</p>, <p>Herman's evaluation of Julien underwent a drastic change.</p>, <p>'Not only is he able to perfectly portray fear, but he also seems to have mastered the state of immersion.'</p>, <p>A state many Emotive Mages chased after. A state where one could separate reality and immersion.</p>, <p>Was that why he checked his pulse beforehand?</p>, <p>To check his condition before immersion?</p>, <p>'A monster.'</p>, <p>He was a total monster.</p>, <p>\"If I may ask...\"</p>, <p>Catherine was the first to truly break the silence that took hold of the room, briefly glancing at the trembling Jason on the ground before settling her gaze over to Julien.</p>, <p>\"What sort of training did you do to be able to do this? And is it only limited to fear?\"</p>, <p>\"...\"</p>, <p>Her question was met with silence as Julien stood still.</p>, <p>He then lowered his head and shook his head.</p>, <p>\"Ah.\"</p>, <p>'Was it so bad that he doesn't want to talk about it?'</p>, <p>The judges felt their expressions harden.</p>, <p>And finally, Delilah, who had been quiet the entire time, with her gaze seemingly never detaching from Juline, opened her mouth to speak,</p>, <p>\"You're dismissed. We'll let you know your results after we've evaluated all the examinees.\"</p>, <p>Julien nodded his head and calmly walked out of the room. It was as if he hadn't done anything worth praising over.</p>, <p>When he left, Herman and the others looked at her.</p>, <p>\"Why did you let him go like that? We were still busy ex—\"</p>, <p>\"Take a look at the floor.\"</p>, <p>\"Ah.\"</p>, <p>And that was when everyone finally realized.</p>, <p>\"Ah...! Pl-please help me... Ah...\"</p>, <p>\"He's in no state to continue with the examination. Tell someone to replace him and send him to the infirmary. For now, we'll take a break.\"</p>, <p>\"But...!\"</p>, <p>\"I know what you want to say.\"</p>, <p>Delilah raised her hand to stop the other examiners from speaking.</p>, <p>\"You want to know more about him, right?\"</p>, <p>When Herman and the others nodded, Delilah turned to look at the door where Julien had left.</p>, <p>Her gaze told a thousand words.</p>, <p>Herman could tell.</p>, <p>Like the rest of them, her interest had been piqued.</p>, <p>Without a doubt, she wanted to know what everyone in the room wanted to know.</p>, <p>A question none of them dared to ask.</p>, <p>To what extent had he immersed himself?</p>, <p>***</p>, <p>Everything was a blur to me.</p>, <p>From the moment I poured out everything to what unfolded next, my mind felt shrouded in a perpetual fog.</p>, <p>I couldn't think straight.</p>, <p>\"What sort of training did you do to be able to do this? And is it only limited to fear?\"</p>, <p>My sole focus was getting out of here.</p>, <p>I could feel it from deep within me. I still hadn't let it all out. It was lingering within my mind, slowly creeping its way up.</p>, <p>'I need to leave...'</p>, <p>So, then,</p>, <p>\"You're dismissed. We'll let you know your results after we've evaluated all the examinees.\"</p>, <p>When the chance presented itself, I spared no time and left. Coming out, I felt the stares of everyone in the hall fall on me, but yet again, I could pay them no mind.</p>, <p>'I need to find somewhere safe... A bathroom, or room. I can't...!'</p>, <p>My steps faltered momentarily. I felt something rising from my stomach. Swallowing back, I forced myself forward.</p>, <p>\"Move.\"</p>, <p>I pushed everyone in front of me away and continued forward.</p>, <p>\"Hey...!\"</p>, <p>I didn't care about their protests.</p>, <p>A bathroom... A room... Something...</p>, <p>I continued to walk. I didn't care to look where I was. I only stopped when I found a room. Glancing around, I entered.</p>, <p>It was a small room.</p>, <p>\"Haa... Haa...\"</p>, <p>And most importantly.</p>, <p>Empty.</p>, <p>\"Blergh...!\"</p>, <p>The contents I so desperately held back came out all at once. My vision fogged, and I hunched over.</p>, <p>My stomach clenched with pain as I could feel the sweat on my forehead.</p>, <p>\"Ha-h...\"</p>, <p>I clenched my shirt, feeling the beat of my heart in the process.</p>, <p>It was fast.</p>, <p>Really fast...</p>, <p>I took deep breaths to calm myself down.</p>, <p>To calm my beating heart, but...</p>, <p>It wouldn't stop.</p>, <p>\"Ah... Ah...!\"</p>, <p>The fear that had gripped me moments before had come back to haunt me again.</p>, <p>I couldn't stop shaking.</p>, <p>It was as if something had possessed me.</p>, <p>\"Akh...!\"</p>, <p>I could feel it.</p>, <p>Clearer than ever.</p>, <p>I...</p>, <p>Was being consumed.</p>]\n",
            "Thread 0 attempting to download url: https://www.lightnovelpub.com/novel/advent-of-the-three-calamities-1678/chapter-6\n",
            "Thread 2 attempting to download url: https://www.lightnovelpub.com/novel/advent-of-the-three-calamities-1678/chapter-7\n"
          ]
        },
        {
          "output_type": "stream",
          "name": "stderr",
          "text": [
            "WARNING:urllib3.connectionpool:Retrying (Retry(total=2, connect=None, read=None, redirect=None, status=None)) after connection broken by 'NewConnectionError('<urllib3.connection.HTTPConnection object at 0x7f97ad565210>: Failed to establish a new connection: [Errno 111] Connection refused')': /session/070bacb1-ad17-463d-9082-5c08057c5b14/element\n",
            "WARNING:urllib3.connectionpool:Retrying (Retry(total=1, connect=None, read=None, redirect=None, status=None)) after connection broken by 'NewConnectionError('<urllib3.connection.HTTPConnection object at 0x7f97ad1bb5b0>: Failed to establish a new connection: [Errno 111] Connection refused')': /session/070bacb1-ad17-463d-9082-5c08057c5b14/element\n",
            "WARNING:urllib3.connectionpool:Retrying (Retry(total=0, connect=None, read=None, redirect=None, status=None)) after connection broken by 'NewConnectionError('<urllib3.connection.HTTPConnection object at 0x7f97ad1bb7c0>: Failed to establish a new connection: [Errno 111] Connection refused')': /session/070bacb1-ad17-463d-9082-5c08057c5b14/element\n"
          ]
        },
        {
          "output_type": "error",
          "ename": "CancelledError",
          "evalue": "",
          "traceback": [
            "\u001b[0;31m---------------------------------------------------------------------------\u001b[0m",
            "\u001b[0;31mCancelledError\u001b[0m                            Traceback (most recent call last)",
            "\u001b[0;32m<ipython-input-36-a37271133f91>\u001b[0m in \u001b[0;36m<cell line: 6>\u001b[0;34m()\u001b[0m\n\u001b[1;32m      4\u001b[0m \u001b[0murl\u001b[0m \u001b[0;34m=\u001b[0m \u001b[0;34m\"https://www.lightnovelpub.com/novel/advent-of-the-three-calamities/chapters\"\u001b[0m\u001b[0;34m\u001b[0m\u001b[0;34m\u001b[0m\u001b[0m\n\u001b[1;32m      5\u001b[0m \u001b[0mtitle\u001b[0m \u001b[0;34m=\u001b[0m \u001b[0;34m\"advant-of-the-three-calamities\"\u001b[0m\u001b[0;34m\u001b[0m\u001b[0;34m\u001b[0m\u001b[0m\n\u001b[0;32m----> 6\u001b[0;31m \u001b[0;32mawait\u001b[0m \u001b[0mmain1\u001b[0m\u001b[0;34m(\u001b[0m\u001b[0murl\u001b[0m\u001b[0;34m,\u001b[0m \u001b[0mtitle\u001b[0m\u001b[0;34m)\u001b[0m\u001b[0;34m\u001b[0m\u001b[0;34m\u001b[0m\u001b[0m\n\u001b[0m",
            "\u001b[0;32m<ipython-input-31-507a7e7d76ec>\u001b[0m in \u001b[0;36mmain1\u001b[0;34m(url, title)\u001b[0m\n\u001b[1;32m      4\u001b[0m \u001b[0;34m\u001b[0m\u001b[0m\n\u001b[1;32m      5\u001b[0m     \u001b[0;31m# Start async downloading chapter pages\u001b[0m\u001b[0;34m\u001b[0m\u001b[0;34m\u001b[0m\u001b[0m\n\u001b[0;32m----> 6\u001b[0;31m     \u001b[0;32mawait\u001b[0m \u001b[0masyncDownload\u001b[0m\u001b[0;34m(\u001b[0m\u001b[0murl\u001b[0m\u001b[0;34m,\u001b[0m \u001b[0mgetBrowser\u001b[0m\u001b[0;34m(\u001b[0m\u001b[0;34m)\u001b[0m\u001b[0;34m)\u001b[0m\u001b[0;34m\u001b[0m\u001b[0;34m\u001b[0m\u001b[0m\n\u001b[0m\u001b[1;32m      7\u001b[0m \u001b[0;34m\u001b[0m\u001b[0m\n\u001b[1;32m      8\u001b[0m     \u001b[0;31m# Zip and download chapters\u001b[0m\u001b[0;34m\u001b[0m\u001b[0;34m\u001b[0m\u001b[0m\n",
            "\u001b[0;32m<ipython-input-28-1b0a1fef0b2a>\u001b[0m in \u001b[0;36masyncDownload\u001b[0;34m(url, browser)\u001b[0m\n\u001b[1;32m     22\u001b[0m \u001b[0;34m\u001b[0m\u001b[0m\n\u001b[1;32m     23\u001b[0m   \u001b[0;31m# Wait for all queue items to be downloaded\u001b[0m\u001b[0;34m\u001b[0m\u001b[0;34m\u001b[0m\u001b[0m\n\u001b[0;32m---> 24\u001b[0;31m   \u001b[0;32mawait\u001b[0m \u001b[0mqueue\u001b[0m\u001b[0;34m.\u001b[0m\u001b[0mjoin\u001b[0m\u001b[0;34m(\u001b[0m\u001b[0;34m)\u001b[0m\u001b[0;34m\u001b[0m\u001b[0;34m\u001b[0m\u001b[0m\n\u001b[0m\u001b[1;32m     25\u001b[0m \u001b[0;34m\u001b[0m\u001b[0m\n\u001b[1;32m     26\u001b[0m   \u001b[0;31m# Quit all browsers\u001b[0m\u001b[0;34m\u001b[0m\u001b[0;34m\u001b[0m\u001b[0m\n",
            "\u001b[0;32m/usr/lib/python3.10/asyncio/queues.py\u001b[0m in \u001b[0;36mjoin\u001b[0;34m(self)\u001b[0m\n\u001b[1;32m    214\u001b[0m         \"\"\"\n\u001b[1;32m    215\u001b[0m         \u001b[0;32mif\u001b[0m \u001b[0mself\u001b[0m\u001b[0;34m.\u001b[0m\u001b[0m_unfinished_tasks\u001b[0m \u001b[0;34m>\u001b[0m \u001b[0;36m0\u001b[0m\u001b[0;34m:\u001b[0m\u001b[0;34m\u001b[0m\u001b[0;34m\u001b[0m\u001b[0m\n\u001b[0;32m--> 216\u001b[0;31m             \u001b[0;32mawait\u001b[0m \u001b[0mself\u001b[0m\u001b[0;34m.\u001b[0m\u001b[0m_finished\u001b[0m\u001b[0;34m.\u001b[0m\u001b[0mwait\u001b[0m\u001b[0;34m(\u001b[0m\u001b[0;34m)\u001b[0m\u001b[0;34m\u001b[0m\u001b[0;34m\u001b[0m\u001b[0m\n\u001b[0m\u001b[1;32m    217\u001b[0m \u001b[0;34m\u001b[0m\u001b[0m\n\u001b[1;32m    218\u001b[0m \u001b[0;34m\u001b[0m\u001b[0m\n",
            "\u001b[0;32m/usr/lib/python3.10/asyncio/locks.py\u001b[0m in \u001b[0;36mwait\u001b[0;34m(self)\u001b[0m\n\u001b[1;32m    212\u001b[0m         \u001b[0mself\u001b[0m\u001b[0;34m.\u001b[0m\u001b[0m_waiters\u001b[0m\u001b[0;34m.\u001b[0m\u001b[0mappend\u001b[0m\u001b[0;34m(\u001b[0m\u001b[0mfut\u001b[0m\u001b[0;34m)\u001b[0m\u001b[0;34m\u001b[0m\u001b[0;34m\u001b[0m\u001b[0m\n\u001b[1;32m    213\u001b[0m         \u001b[0;32mtry\u001b[0m\u001b[0;34m:\u001b[0m\u001b[0;34m\u001b[0m\u001b[0;34m\u001b[0m\u001b[0m\n\u001b[0;32m--> 214\u001b[0;31m             \u001b[0;32mawait\u001b[0m \u001b[0mfut\u001b[0m\u001b[0;34m\u001b[0m\u001b[0;34m\u001b[0m\u001b[0m\n\u001b[0m\u001b[1;32m    215\u001b[0m             \u001b[0;32mreturn\u001b[0m \u001b[0;32mTrue\u001b[0m\u001b[0;34m\u001b[0m\u001b[0;34m\u001b[0m\u001b[0m\n\u001b[1;32m    216\u001b[0m         \u001b[0;32mfinally\u001b[0m\u001b[0;34m:\u001b[0m\u001b[0;34m\u001b[0m\u001b[0;34m\u001b[0m\u001b[0m\n",
            "\u001b[0;31mCancelledError\u001b[0m: "
          ]
        }
      ],
      "source": [
        "# Ask user for ln information\n",
        "#url = input(\"Enter URL: \")\n",
        "#title = input(\"Enter directory: \")\n",
        "url = \"https://www.lightnovelpub.com/novel/advent-of-the-three-calamities/chapters\"\n",
        "title = \"advant-of-the-three-calamities\"\n",
        "await main1(url, title)"
      ]
    },
    {
      "cell_type": "code",
      "source": [],
      "metadata": {
        "id": "fuowmTNKpjXs"
      },
      "execution_count": 32,
      "outputs": []
    },
    {
      "cell_type": "code",
      "source": [],
      "metadata": {
        "id": "u3gyvST2pjhP"
      },
      "execution_count": 32,
      "outputs": []
    },
    {
      "cell_type": "code",
      "source": [
        "import asyncio\n",
        "import random\n",
        "import time\n",
        "\n",
        "\n",
        "\n",
        "async def sleep(name, sleep_for):\n",
        "    await asyncio.sleep(sleep_for)\n",
        "    print(f'{name} has slept for {sleep_for:.2f} seconds')\n",
        "\n",
        "\n",
        "\n",
        "\n",
        "async def worker(name, queue):\n",
        "    while True:\n",
        "        # Get a \"work item\" out of the queue.\n",
        "        sleep_for = await queue.get()\n",
        "\n",
        "        # Sleep for the \"sleep_for\" seconds.\n",
        "        await sleep(name, sleep_for)\n",
        "\n",
        "        # Notify the queue that the \"work item\" has been processed.\n",
        "        queue.task_done()\n",
        "\n",
        "        print(f'{name} has slept for {sleep_for:.2f} seconds')\n",
        "\n",
        "\n",
        "async def main():\n",
        "    # Create a queue that we will use to store our \"workload\".\n",
        "    queue = asyncio.Queue()\n",
        "\n",
        "    # Generate random timings and put them into the queue.\n",
        "    total_sleep_time = 0\n",
        "    for _ in range(20):\n",
        "        sleep_for = random.uniform(0.05, 1.0)\n",
        "        total_sleep_time += sleep_for\n",
        "        queue.put_nowait(sleep_for)\n",
        "\n",
        "    # Create three worker tasks to process the queue concurrently.\n",
        "    tasks = []\n",
        "    for i in range(3):\n",
        "        task = asyncio.create_task(worker(f'worker-{i}', queue))\n",
        "        tasks.append(task)\n",
        "\n",
        "    # Wait until the queue is fully processed.\n",
        "    started_at = time.monotonic()\n",
        "    await queue.join()\n",
        "    total_slept_for = time.monotonic() - started_at\n",
        "\n",
        "    # Cancel our worker tasks.\n",
        "    for task in tasks:\n",
        "        task.cancel()\n",
        "    # Wait until all worker tasks are cancelled.\n",
        "    await asyncio.gather(*tasks, return_exceptions=True)\n",
        "\n",
        "    print('====')\n",
        "    print(f'3 workers slept in parallel for {total_slept_for:.2f} seconds')\n",
        "    print(f'total expected sleep time: {total_sleep_time:.2f} seconds')\n",
        "\n",
        "\n",
        "await main()"
      ],
      "metadata": {
        "colab": {
          "base_uri": "https://localhost:8080/"
        },
        "id": "e4IVrPhopjrc",
        "outputId": "74d1fd5f-bf72-4483-adf5-84b1eaa00f5c"
      },
      "execution_count": 33,
      "outputs": [
        {
          "output_type": "stream",
          "name": "stdout",
          "text": [
            "worker-2 has slept for 0.49 seconds\n",
            "worker-2 has slept for 0.49 seconds\n",
            "worker-0 has slept for 0.61 seconds\n",
            "worker-0 has slept for 0.61 seconds\n",
            "worker-1 has slept for 0.61 seconds\n",
            "worker-1 has slept for 0.61 seconds\n",
            "worker-1 has slept for 0.22 seconds\n",
            "worker-1 has slept for 0.22 seconds\n",
            "worker-0 has slept for 0.54 seconds\n",
            "worker-0 has slept for 0.54 seconds\n",
            "worker-2 has slept for 0.70 seconds\n",
            "worker-2 has slept for 0.70 seconds\n",
            "worker-0 has slept for 0.55 seconds\n",
            "worker-0 has slept for 0.55 seconds\n",
            "worker-1 has slept for 0.94 seconds\n",
            "worker-1 has slept for 0.94 seconds\n",
            "worker-2 has slept for 0.67 seconds\n",
            "worker-2 has slept for 0.67 seconds\n",
            "worker-2 has slept for 0.09 seconds\n",
            "worker-2 has slept for 0.09 seconds\n",
            "worker-0 has slept for 0.61 seconds\n",
            "worker-0 has slept for 0.61 seconds\n",
            "worker-1 has slept for 0.74 seconds\n",
            "worker-1 has slept for 0.74 seconds\n",
            "worker-0 has slept for 0.25 seconds\n",
            "worker-0 has slept for 0.25 seconds\n",
            "worker-2 has slept for 0.62 seconds\n",
            "worker-2 has slept for 0.62 seconds\n",
            "worker-0 has slept for 0.29 seconds\n",
            "worker-0 has slept for 0.29 seconds\n",
            "worker-0 has slept for 0.07 seconds\n",
            "worker-0 has slept for 0.07 seconds\n",
            "worker-1 has slept for 0.92 seconds\n",
            "worker-1 has slept for 0.92 seconds\n",
            "worker-2 has slept for 0.93 seconds\n",
            "worker-2 has slept for 0.93 seconds\n",
            "worker-1 has slept for 0.15 seconds\n",
            "worker-1 has slept for 0.15 seconds\n",
            "worker-0 has slept for 0.82 seconds\n",
            "worker-0 has slept for 0.82 seconds\n",
            "====\n",
            "3 workers slept in parallel for 3.74 seconds\n",
            "total expected sleep time: 10.80 seconds\n"
          ]
        }
      ]
    }
  ],
  "metadata": {
    "colab": {
      "provenance": [],
      "authorship_tag": "ABX9TyPB798erOI4ty2KADTHMhcq",
      "include_colab_link": true
    },
    "kernelspec": {
      "display_name": "Python 3",
      "name": "python3"
    },
    "language_info": {
      "name": "python"
    }
  },
  "nbformat": 4,
  "nbformat_minor": 0
}