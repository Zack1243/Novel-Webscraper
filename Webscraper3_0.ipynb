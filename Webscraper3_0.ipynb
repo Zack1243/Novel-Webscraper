{
  "nbformat": 4,
  "nbformat_minor": 0,
  "metadata": {
    "colab": {
      "provenance": [],
      "authorship_tag": "ABX9TyPJSqOfSPwdLE7If0EWeXt3",
      "include_colab_link": true
    },
    "kernelspec": {
      "name": "python3",
      "display_name": "Python 3"
    },
    "language_info": {
      "name": "python"
    }
  },
  "cells": [
    {
      "cell_type": "markdown",
      "metadata": {
        "id": "view-in-github",
        "colab_type": "text"
      },
      "source": [
        "<a href=\"https://colab.research.google.com/github/Zack1243/Novel-Webscraper/blob/main/Webscraper3_0.ipynb\" target=\"_parent\"><img src=\"https://colab.research.google.com/assets/colab-badge.svg\" alt=\"Open In Colab\"/></a>"
      ]
    },
    {
      "cell_type": "code",
      "execution_count": 3,
      "metadata": {
        "colab": {
          "base_uri": "https://localhost:8080/"
        },
        "id": "dsn3bcPnF-rS",
        "outputId": "db15ab21-2c73-4f01-93e2-7b7fa6821686"
      },
      "outputs": [
        {
          "output_type": "stream",
          "name": "stdout",
          "text": [
            "Collecting selenium\n",
            "  Downloading selenium-4.20.0-py3-none-any.whl (9.5 MB)\n",
            "\u001b[2K     \u001b[90m━━━━━━━━━━━━━━━━━━━━━━━━━━━━━━━━━━━━━━━━\u001b[0m \u001b[32m9.5/9.5 MB\u001b[0m \u001b[31m49.2 MB/s\u001b[0m eta \u001b[36m0:00:00\u001b[0m\n",
            "\u001b[?25hRequirement already satisfied: urllib3[socks]<3,>=1.26 in /usr/local/lib/python3.10/dist-packages (from selenium) (2.0.7)\n",
            "Collecting trio~=0.17 (from selenium)\n",
            "  Downloading trio-0.25.0-py3-none-any.whl (467 kB)\n",
            "\u001b[2K     \u001b[90m━━━━━━━━━━━━━━━━━━━━━━━━━━━━━━━━━━━━━━━━\u001b[0m \u001b[32m467.2/467.2 kB\u001b[0m \u001b[31m40.1 MB/s\u001b[0m eta \u001b[36m0:00:00\u001b[0m\n",
            "\u001b[?25hCollecting trio-websocket~=0.9 (from selenium)\n",
            "  Downloading trio_websocket-0.11.1-py3-none-any.whl (17 kB)\n",
            "Requirement already satisfied: certifi>=2021.10.8 in /usr/local/lib/python3.10/dist-packages (from selenium) (2024.2.2)\n",
            "Requirement already satisfied: typing_extensions>=4.9.0 in /usr/local/lib/python3.10/dist-packages (from selenium) (4.11.0)\n",
            "Requirement already satisfied: attrs>=23.2.0 in /usr/local/lib/python3.10/dist-packages (from trio~=0.17->selenium) (23.2.0)\n",
            "Requirement already satisfied: sortedcontainers in /usr/local/lib/python3.10/dist-packages (from trio~=0.17->selenium) (2.4.0)\n",
            "Requirement already satisfied: idna in /usr/local/lib/python3.10/dist-packages (from trio~=0.17->selenium) (3.7)\n",
            "Collecting outcome (from trio~=0.17->selenium)\n",
            "  Downloading outcome-1.3.0.post0-py2.py3-none-any.whl (10 kB)\n",
            "Requirement already satisfied: sniffio>=1.3.0 in /usr/local/lib/python3.10/dist-packages (from trio~=0.17->selenium) (1.3.1)\n",
            "Requirement already satisfied: exceptiongroup in /usr/local/lib/python3.10/dist-packages (from trio~=0.17->selenium) (1.2.1)\n",
            "Collecting wsproto>=0.14 (from trio-websocket~=0.9->selenium)\n",
            "  Downloading wsproto-1.2.0-py3-none-any.whl (24 kB)\n",
            "Requirement already satisfied: pysocks!=1.5.7,<2.0,>=1.5.6 in /usr/local/lib/python3.10/dist-packages (from urllib3[socks]<3,>=1.26->selenium) (1.7.1)\n",
            "Collecting h11<1,>=0.9.0 (from wsproto>=0.14->trio-websocket~=0.9->selenium)\n",
            "  Downloading h11-0.14.0-py3-none-any.whl (58 kB)\n",
            "\u001b[2K     \u001b[90m━━━━━━━━━━━━━━━━━━━━━━━━━━━━━━━━━━━━━━━━\u001b[0m \u001b[32m58.3/58.3 kB\u001b[0m \u001b[31m8.6 MB/s\u001b[0m eta \u001b[36m0:00:00\u001b[0m\n",
            "\u001b[?25hInstalling collected packages: outcome, h11, wsproto, trio, trio-websocket, selenium\n",
            "Successfully installed h11-0.14.0 outcome-1.3.0.post0 selenium-4.20.0 trio-0.25.0 trio-websocket-0.11.1 wsproto-1.2.0\n"
          ]
        }
      ],
      "source": [
        "from bs4 import BeautifulSoup as b4\n",
        "import asyncio\n",
        "import multiprocessing\n",
        "import time\n",
        "import requests\n",
        "!pip install selenium\n",
        "import selenium\n",
        "from selenium import webdriver\n",
        "from selenium.webdriver.common.by import By\n",
        "from selenium.webdriver.support.ui import WebDriverWait\n",
        "from selenium.webdriver.support import expected_conditions as EC"
      ]
    },
    {
      "cell_type": "markdown",
      "source": [
        "### Download every chapter"
      ],
      "metadata": {
        "id": "zPhcIr0SHXRD"
      }
    },
    {
      "cell_type": "code",
      "source": [
        "def getLinks(url):\n",
        "  driver = webdriver.Chrome()\n",
        "  driver.get(url)\n",
        "  #wait for the page to load\n",
        "  #start a driver for chrome\n",
        "  #see if I can use the adblocker extension\n",
        "  #go to the link through the driver\n",
        "  #download the webpage? Or see if I can parse it using selenium/beautifulsoup\n",
        "  #get all the links in the page with beautifulsoup\n",
        "  #multithreaded download all the links\n",
        "  #when the links are exhausted, go to the next tab, if avaliable\n",
        "  #continue until at the final chapter\n",
        "  #"
      ],
      "metadata": {
        "id": "K6lc8rDSGcGG"
      },
      "execution_count": 12,
      "outputs": []
    },
    {
      "cell_type": "code",
      "source": [
        "from bs4 import BeautifulSoup\n",
        "from selenium import webdriver\n",
        "\n",
        "url = \"http://legendas.tv/busca/walking%20dead%20s03e02\"\n",
        "browser = webdriver.PhantomJS()\n",
        "browser.get(url)\n",
        "html = browser.page_source\n",
        "soup = BeautifulSoup(html, 'lxml')\n",
        "a = soup.find('section', 'wrapper')"
      ],
      "metadata": {
        "colab": {
          "base_uri": "https://localhost:8080/",
          "height": 211
        },
        "id": "JhjTO_svJ0XB",
        "outputId": "59171bdf-8921-485c-9758-cfa456ba73bf"
      },
      "execution_count": 15,
      "outputs": [
        {
          "output_type": "error",
          "ename": "AttributeError",
          "evalue": "module 'selenium.webdriver' has no attribute 'PhantomJS'",
          "traceback": [
            "\u001b[0;31m---------------------------------------------------------------------------\u001b[0m",
            "\u001b[0;31mAttributeError\u001b[0m                            Traceback (most recent call last)",
            "\u001b[0;32m<ipython-input-15-9966ed894ec2>\u001b[0m in \u001b[0;36m<cell line: 5>\u001b[0;34m()\u001b[0m\n\u001b[1;32m      3\u001b[0m \u001b[0;34m\u001b[0m\u001b[0m\n\u001b[1;32m      4\u001b[0m \u001b[0murl\u001b[0m \u001b[0;34m=\u001b[0m \u001b[0;34m\"http://legendas.tv/busca/walking%20dead%20s03e02\"\u001b[0m\u001b[0;34m\u001b[0m\u001b[0;34m\u001b[0m\u001b[0m\n\u001b[0;32m----> 5\u001b[0;31m \u001b[0mbrowser\u001b[0m \u001b[0;34m=\u001b[0m \u001b[0mwebdriver\u001b[0m\u001b[0;34m.\u001b[0m\u001b[0mPhantomJS\u001b[0m\u001b[0;34m(\u001b[0m\u001b[0;34m)\u001b[0m\u001b[0;34m\u001b[0m\u001b[0;34m\u001b[0m\u001b[0m\n\u001b[0m\u001b[1;32m      6\u001b[0m \u001b[0mbrowser\u001b[0m\u001b[0;34m.\u001b[0m\u001b[0mget\u001b[0m\u001b[0;34m(\u001b[0m\u001b[0murl\u001b[0m\u001b[0;34m)\u001b[0m\u001b[0;34m\u001b[0m\u001b[0;34m\u001b[0m\u001b[0m\n\u001b[1;32m      7\u001b[0m \u001b[0mhtml\u001b[0m \u001b[0;34m=\u001b[0m \u001b[0mbrowser\u001b[0m\u001b[0;34m.\u001b[0m\u001b[0mpage_source\u001b[0m\u001b[0;34m\u001b[0m\u001b[0;34m\u001b[0m\u001b[0m\n",
            "\u001b[0;31mAttributeError\u001b[0m: module 'selenium.webdriver' has no attribute 'PhantomJS'"
          ]
        }
      ]
    },
    {
      "cell_type": "code",
      "source": [
        "from selenium import webdriver\n",
        "from selenium.webdriver.support.ui import WebDriverWait\n",
        "from selenium.webdriver.support import expected_conditions as ec\n",
        "from selenium.webdriver.common.by import By\n",
        "from selenium.common.exceptions import TimeoutException\n",
        "\n",
        "options = webdriver.FirefoxOptions()\n",
        "options.add_argument('--headless')\n",
        "browser = webdriver.Firefox(options=options)\n",
        "#executable_path='YOUR_PATH/geckodriver.exe'\n",
        "try:\n",
        "    browser.get(\"https://www.lightnovelpub.com/novel/chrysalis-552/chapter-1-30041322\")\n",
        "    timeout_in_seconds = 10\n",
        "    WebDriverWait(browser, timeout_in_seconds).until(ec.presence_of_element_located((By.ID, 'chapter-container')))\n",
        "    html = browser.page_source\n",
        "    soup = BeautifulSoup(html, features=\"html.parser\")\n",
        "    html_content = str(soup)\n",
        "\n",
        "    # Define the filename\n",
        "    filename = \"output.html\"\n",
        "\n",
        "    # Write the HTML content to the file\n",
        "    with open(filename, \"w\") as file:\n",
        "        file.write(html_content)\n",
        "    file.close()\n",
        "    #print(soup.get_text())\n",
        "    #soup.prettify()\n",
        "    #print(soup.find_all('p'))\n",
        "except TimeoutException:\n",
        "    print(\"I give up...\")\n",
        "finally:\n",
        "    browser.quit()"
      ],
      "metadata": {
        "id": "DmkgDzZTKEz8"
      },
      "execution_count": 30,
      "outputs": []
    },
    {
      "cell_type": "code",
      "source": [
        "from selenium import webdriver\n",
        "from selenium.webdriver.support.ui import WebDriverWait\n",
        "from selenium.webdriver.support import expected_conditions as ec\n",
        "from selenium.webdriver.common.by import By\n",
        "from selenium.common.exceptions import TimeoutException\n",
        "\n",
        "with open(\"output.html\", \"r\") as file:\n",
        "  soup = BeautifulSoup(html, features=\"html.parser\")\n",
        "  #print(soup.chapter-title.get_text())\n",
        "  tag = soup.article.find_all('span')\n",
        "  for t in tag:\n",
        "    if \"Chapter\" in t.get_text():\n",
        "      print(t.get_text())\n",
        "  soup = soup.find_all('p')\n",
        "  for p in soup:\n",
        "    print(p.get_text())\n",
        "  file.close()"
      ],
      "metadata": {
        "colab": {
          "base_uri": "https://localhost:8080/"
        },
        "id": "CWD5SvCKO1hF",
        "outputId": "19087fe6-4d69-4b52-e4da-950c4d116003"
      },
      "execution_count": 66,
      "outputs": [
        {
          "output_type": "stream",
          "name": "stdout",
          "text": [
            "Chapter 1: Anthony Reborn\n",
            "I had no time to think, pause or consider before I came to be enveloped in a soft, white light. A blinding flash impacting not just my eyes but seemingly my whole body.\n",
            "Sensation fell gradually away as I tried to gather my thoughts. What had happened? Where was I? I think I made myself dinner, my parents hadn’t been home, again. I was eating in my room, at my desk maybe? Then there had been ... white?\n",
            "I can’t tell how long I’ve been here, floating in this gentle light. Has it been ten days? Or only ten minutes? The light surrounds me, enveloping me like a warm blanket.\n",
            "Sound begins to swell like a wave in the distance. It rushes toward me and just when washes over me I hear a voice.\n",
            "[Welcome Anthony]\n",
            "Well thank you! These are the kinds of good manners that make me feel warm inside.\n",
            "[you have died]\n",
            "Dammit!\n",
            "What do you mean I died, disembodied voice? How on earth are you speaking anyway? Come to think of it, how on earth am I hearing you? Do I even have ears right now?!\n",
            "So if I died, is this heaven? I mean, it’s comfortable enough but I’m not sure if I want to stay here forever you know?\n",
            "[Be calm, you will soon awaken to experience life again in a new world]\n",
            "This voice feels somewhat familiar, a deep and gruff intonation that is comforting yet full of wisdom? Is it that legendary bearded figure, dressed all it white? Worshipped with devotion all over the Earth?\n",
            "Could it be you?\n",
            "Gandalf?\n",
            "[You will be reborn on the world of Pangera]\n",
            "[Destiny and luck shall determine your fate]\n",
            "Hold on a moment, Gandalf! This ... This sounds kind of cool doesn’t it? Reborn into another world? Adventure, peril and opportunity around each corner? Will there be magic? Girls?!\n",
            "Whoa there ... hold on there, me. Need to be calm. Focus and listen to Lord Gandalf!\n",
            "[You will be reborn with the following status:]\n",
            "Here it comes!\n",
            "[Level: 1]\n",
            "So game like!\n",
            "[Stats:]\n",
            "Might: 15\n",
            "Toughness: 12\n",
            "Cunning: 25\n",
            "Will: 18\n",
            "HP: 30\n",
            "MP: 0\n",
            "Oh ho! I sound strong. MP is zero though? Is it because my spirit is lacking? Why are you judging me like this Gandalf?\n",
            "[Skills: Digging level 1; Acid Shot Level 1; Grip Level 3; Bite Level 2]\n",
            "Okay! Skills! This is exciting! Just ... bite? Acid? Aren’t these skills a little... strange? What about destruction magic or inter-dimensional spirit summoning?\n",
            "[Species: Hatchling Ant Worker (Formica)]\n",
            "....\n",
            "Oi.\n",
            "Oiiiiii.\n",
            "What the heck was that Gandalf?! Ant? Not just an ant but a hatchling worker ant?! This isn’t the glorious rebirth I had in mind Lord Gandalf! Was I lacking in virtue during my previous life? Was I too cruel to my friends? That can’t be so, I didn’t have any friends!\n",
            "[You have one Skill point and one Biomass available]\n",
            "[Go forth and forge your own path]\n",
            "An ant path? Forge your mother, Gandalf!\n",
            "At this moment, I sensed a change the light surrounding me. Gradually, it began to condense, shrinking and squeezing against me. Simultaneously it began to take form. Slowly the features and details of my new body were taking shape.\n",
            "Sadly those features were not to my liking!\n",
            "Six legs, two antennae, strong mandibles and a large abdomen. This is definitely the body of an ant.\n",
            "After what felt like only a few minutes my shape was fully formed, my body, still white and somewhat translucent had coalesced around my consciousness.\n",
            "I was now a fully formed ant.\n",
            "What the hell am I supposed to do now Gandalf?! I may have kept ants as pets, but that doesn’t mean I know what one is supposed to do?! Is that all it takes is it? Pet ants means ant rebirth?\n",
            "First I suppose I’ll try and get my bearings. The first thing I notice is that my vision is terrible. I appear to be somewhere quite dark but a faint blue glow can be seen coming from a wall in front of me, but the details are terribly blurry. Every time I turn my head my vision seems to swim, as if the colours are washed away with water before settling again.\n",
            "There is a sinking feeling in my... abdomen? Most ants have very poor vision, some are even completely blind. At least I’m not that unlucky. I’ll have to adjust to the other senses I have to compensate for my crappy vision!\n",
            "Of course I mean my antennae! I should, if I recall right, be able to use them to smell the air and detect movement from air currents. I diligently start waving my still white feelers to see if I can sense anything.\n",
            "Ooooo. This is a bit different.\n",
            "I’m detecting a few smells I can’t identify. The air here certainly seems a bit stale, which makes sense if I’m underground.\n",
            "But wait. Where are all my ant brethren? Ants usually communicate by pheromones and their sense of smell right? My fellow colony mates should be around here ready to welcome their new comrade shouldn’t they?! Why can’t I find them?\n",
            "Wait! I’m detecting a whiff of something nearby. I turn left and frantically wave my antennae in this new direction. Yes. Something that smells much like myself is nearby. By piecing together information from my senses I can work out that I’m in a long tunnel. Across one of the walls there is a faintly pulsing blue light. The tunnel seems to be a combination of rock walls with dirt sections.\n",
            "Very gradually I begin to proceed towards the scent of my ally. My six legs begin to move, hesitantly at first and then with growing confidence.\n",
            "I’m starting to hear something as I approach a curve in the tunnel ahead. It’s a little hard to make out, like a crunching noise?\n",
            "Not to fear my fellow ant buddy! Whatever your task may be, I am here to assist, for the glory of the colony!\n",
            "Antennae waving furiously I approach the curve and poke my head around the corner.\n",
            "I see movement. An ant is lying flat on its back, legs slowly waving jerkily in the air. Mandibles open and snap at air weakly, but that’s not all I see.\n",
            "Above my brethren I see a long snout open wide, jagged curved teeth revealed within. Two powerful hands grip a weakly struggling ant, lifting it towards those jaws which close with crushing force. The ant victim writhes in silent agony and the predator snaps its jaws a few more times before lifting its head and throwing the food down its gullet.\n",
            "Nonononononono.\n",
            "Nope.\n",
            "What the heck is this?!\n",
            "Is this some sort of monster walking crocodile lizard beast?! At the end of its body I can see a massive tail swishing across the ground, two strong looking hands are pinning down the body of its prey, my comrade is still twitching and trying to move but is clearly at the end of their strength.\n",
            "Fortunately the monster has its back to me!\n",
            "Don’t look at me like that, ally!\n",
            "What do you want me to do? Fight that giant Croca-beast?! I can tell its easily four or five times my size!\n",
            "This isn’t the colony, there aren’t any other ants here. No team, no support, no soldiers to protect us workers. What can I possibly do?\n",
            "Clearly my best strategy in this situation is to ... Flee!\n",
            "Before it finishes eating and looks for more I have to run!\n",
            "Tripping and falling over my own legs I turn and scurry back down the tunnel in the direction I came. Run, run, run!\n",
            "Wait!\n",
            "What if I run into another of those monsters coming down the tunnel towards me?! That would be game over man, game over!\n",
            "Think Anthony, think like an ant!\n",
            "I stop too quickly and tangle my legs up again, causing me to fall in a heap. Hang on a moment?! I do have an option to ensure my safety. What would an ant do? Dig!\n",
            "I use my feelers and front legs to scan the walls around me as quickly as I can. There! Aha! This section of wall is softer dirt, not rock!\n",
            "Dig like your life depends on it Anthony! Because it does!\n",
            "Raising my forelegs I start to scratch madly at the wall. My legs are still white coloured and faintly translucent, too soft to effectively dig! Hold on, ants don’t use their legs to dig anyway. I try opening my mandibles on the front of my face for the first time. In my vision I can see the thick jaws open and snap shut.\n",
            "I have to dig with my face!\n",
            "I push my face towards the wall and open my jaws as wide as I can then crunch them shut with all of my strength. My mandibles are yet to harden fully but they are still enough to rip into this dirt wall easily!\n",
            "Haha!\n",
            "Frantically I dig without pause, without rest, until I have carved out a small tunnel in the wall large enough to fit myself in and then collapse the entrance, trapping myself in complete black.\n",
            "If I’m found, I’m dead!\n",
            "Shivering in my dark hidey hole I begin to ponder my circumstances.\n",
            "This situation is too strange! A new ant should be born inside the colony, surrounded by allies and protectors, why on Pangera was I born alone in a tunnel with such fearsome beasts! Judging by my poor fellow ant out there I’m not the only one dropped into these hopeless straights.\n",
            "I can only think of one thing. A raid. Something attacked my home colony and escaped carrying a few unhatched young. A juicy, defenseless food supply to snack on back in their own home tunnels. It may not have even been that giant Croca-beast that conducted the raid, it may have intercepted the creatures that did the deed and stolen their prize.\n",
            "As a result I was dropped, unseen and managed to hatch successfully, leading to my current position of shaking in the dirt hoping I don’t get found.\n",
            "I can also dismiss the idea that I am a normal ant, just a few millimeters long. I’ve no idea how large I actually am but I can safely assume I would be a ridiculous size for an ant on Earth. That bi-pedal crocodile-headed beast certainly did not exist on Earth and surely cannot evolve naturally. This evidence, combined with the game like system in this world leads me to believe that it was a monster I saw and that I am also a monster in some underground labyrinth or dungeon.\n",
            "That’s scary! Do I have some sort of monster core that explorers will come to farm? Do I drop money when I die?!\n",
            "This is some ridiculous hard mode right here Gandalf!\n",
            "A little help?\n",
            "Wait. He did say something about a skill point and Biomass?\n"
          ]
        }
      ]
    },
    {
      "cell_type": "code",
      "source": [
        "soup = BeautifulSoup(html, 'html.parser')\n"
      ],
      "metadata": {
        "colab": {
          "base_uri": "https://localhost:8080/"
        },
        "id": "3IXB7SCXW-2h",
        "outputId": "67b0d61e-6c3c-469d-d7e6-f4a81a9883f8"
      },
      "execution_count": 48,
      "outputs": [
        {
          "output_type": "stream",
          "name": "stdout",
          "text": [
            "None\n"
          ]
        }
      ]
    },
    {
      "cell_type": "markdown",
      "source": [
        "### Cull each URL"
      ],
      "metadata": {
        "id": "Afg8aQRYHa3Y"
      }
    },
    {
      "cell_type": "code",
      "source": [
        "def cullURL(url):\n",
        "  #cull scripts\n",
        "  #edit the title\n",
        "  #edit the header\n",
        "  #"
      ],
      "metadata": {
        "id": "R88AFc0cHc8X"
      },
      "execution_count": null,
      "outputs": []
    },
    {
      "cell_type": "markdown",
      "source": [
        "### Input url"
      ],
      "metadata": {
        "id": "4pvQyXi8HZYK"
      }
    },
    {
      "cell_type": "code",
      "source": [
        "url = input(\"Enter URL: \")\n",
        "#sample url: https://www.lightnovelpub.com/novel/chrysalis-16091353/chapters\n",
        "getLinks(url)\n",
        "\n"
      ],
      "metadata": {
        "colab": {
          "base_uri": "https://localhost:8080/",
          "height": 686
        },
        "id": "xi9DH-juGBLV",
        "outputId": "5372953d-d9a4-4158-fc60-3c7b1075bd00"
      },
      "execution_count": 13,
      "outputs": [
        {
          "name": "stdout",
          "output_type": "stream",
          "text": [
            "Enter URL: https://www.lightnovelpub.com/novel/chrysalis-552/chapter-1-30041322\n"
          ]
        },
        {
          "output_type": "error",
          "ename": "SessionNotCreatedException",
          "evalue": "Message: session not created: Chrome failed to start: exited normally.\n  (session not created: DevToolsActivePort file doesn't exist)\n  (The process started from chrome location /root/.cache/selenium/chrome/linux64/124.0.6367.91/chrome is no longer running, so ChromeDriver is assuming that Chrome has crashed.)\nStacktrace:\n#0 0x587c9c522cb3 <unknown>\n#1 0x587c9c2114a7 <unknown>\n#2 0x587c9c245a26 <unknown>\n#3 0x587c9c241980 <unknown>\n#4 0x587c9c28a7b0 <unknown>\n#5 0x587c9c27e1b3 <unknown>\n#6 0x587c9c24f24a <unknown>\n#7 0x587c9c24fc1e <unknown>\n#8 0x587c9c4e6fdb <unknown>\n#9 0x587c9c4eaf2b <unknown>\n#10 0x587c9c4d30f1 <unknown>\n#11 0x587c9c4eba92 <unknown>\n#12 0x587c9c4b7faf <unknown>\n#13 0x587c9c511e08 <unknown>\n#14 0x587c9c511fe0 <unknown>\n#15 0x587c9c521e04 <unknown>\n#16 0x792c51cf9ac3 <unknown>\n",
          "traceback": [
            "\u001b[0;31m---------------------------------------------------------------------------\u001b[0m",
            "\u001b[0;31mSessionNotCreatedException\u001b[0m                Traceback (most recent call last)",
            "\u001b[0;32m<ipython-input-13-486f0f41696d>\u001b[0m in \u001b[0;36m<cell line: 3>\u001b[0;34m()\u001b[0m\n\u001b[1;32m      1\u001b[0m \u001b[0murl\u001b[0m \u001b[0;34m=\u001b[0m \u001b[0minput\u001b[0m\u001b[0;34m(\u001b[0m\u001b[0;34m\"Enter URL: \"\u001b[0m\u001b[0;34m)\u001b[0m\u001b[0;34m\u001b[0m\u001b[0;34m\u001b[0m\u001b[0m\n\u001b[1;32m      2\u001b[0m \u001b[0;31m#sample url: https://www.lightnovelpub.com/novel/chrysalis-16091353/chapters\u001b[0m\u001b[0;34m\u001b[0m\u001b[0;34m\u001b[0m\u001b[0m\n\u001b[0;32m----> 3\u001b[0;31m \u001b[0mgetLinks\u001b[0m\u001b[0;34m(\u001b[0m\u001b[0murl\u001b[0m\u001b[0;34m)\u001b[0m\u001b[0;34m\u001b[0m\u001b[0;34m\u001b[0m\u001b[0m\n\u001b[0m\u001b[1;32m      4\u001b[0m \u001b[0;34m\u001b[0m\u001b[0m\n",
            "\u001b[0;32m<ipython-input-12-1441f6165a6a>\u001b[0m in \u001b[0;36mgetLinks\u001b[0;34m(url)\u001b[0m\n\u001b[1;32m      1\u001b[0m \u001b[0;32mdef\u001b[0m \u001b[0mgetLinks\u001b[0m\u001b[0;34m(\u001b[0m\u001b[0murl\u001b[0m\u001b[0;34m)\u001b[0m\u001b[0;34m:\u001b[0m\u001b[0;34m\u001b[0m\u001b[0;34m\u001b[0m\u001b[0m\n\u001b[0;32m----> 2\u001b[0;31m   \u001b[0mdriver\u001b[0m \u001b[0;34m=\u001b[0m \u001b[0mwebdriver\u001b[0m\u001b[0;34m.\u001b[0m\u001b[0mChrome\u001b[0m\u001b[0;34m(\u001b[0m\u001b[0;34m)\u001b[0m\u001b[0;34m\u001b[0m\u001b[0;34m\u001b[0m\u001b[0m\n\u001b[0m\u001b[1;32m      3\u001b[0m   \u001b[0mdriver\u001b[0m\u001b[0;34m.\u001b[0m\u001b[0mget\u001b[0m\u001b[0;34m(\u001b[0m\u001b[0murl\u001b[0m\u001b[0;34m)\u001b[0m\u001b[0;34m\u001b[0m\u001b[0;34m\u001b[0m\u001b[0m\n\u001b[1;32m      4\u001b[0m   \u001b[0;31m#wait for the page to load\u001b[0m\u001b[0;34m\u001b[0m\u001b[0;34m\u001b[0m\u001b[0m\n\u001b[1;32m      5\u001b[0m   \u001b[0;31m#start a driver for chrome\u001b[0m\u001b[0;34m\u001b[0m\u001b[0;34m\u001b[0m\u001b[0m\n",
            "\u001b[0;32m/usr/local/lib/python3.10/dist-packages/selenium/webdriver/chrome/webdriver.py\u001b[0m in \u001b[0;36m__init__\u001b[0;34m(self, options, service, keep_alive)\u001b[0m\n\u001b[1;32m     43\u001b[0m         \u001b[0moptions\u001b[0m \u001b[0;34m=\u001b[0m \u001b[0moptions\u001b[0m \u001b[0;32mif\u001b[0m \u001b[0moptions\u001b[0m \u001b[0;32melse\u001b[0m \u001b[0mOptions\u001b[0m\u001b[0;34m(\u001b[0m\u001b[0;34m)\u001b[0m\u001b[0;34m\u001b[0m\u001b[0;34m\u001b[0m\u001b[0m\n\u001b[1;32m     44\u001b[0m \u001b[0;34m\u001b[0m\u001b[0m\n\u001b[0;32m---> 45\u001b[0;31m         super().__init__(\n\u001b[0m\u001b[1;32m     46\u001b[0m             \u001b[0mbrowser_name\u001b[0m\u001b[0;34m=\u001b[0m\u001b[0mDesiredCapabilities\u001b[0m\u001b[0;34m.\u001b[0m\u001b[0mCHROME\u001b[0m\u001b[0;34m[\u001b[0m\u001b[0;34m\"browserName\"\u001b[0m\u001b[0;34m]\u001b[0m\u001b[0;34m,\u001b[0m\u001b[0;34m\u001b[0m\u001b[0;34m\u001b[0m\u001b[0m\n\u001b[1;32m     47\u001b[0m             \u001b[0mvendor_prefix\u001b[0m\u001b[0;34m=\u001b[0m\u001b[0;34m\"goog\"\u001b[0m\u001b[0;34m,\u001b[0m\u001b[0;34m\u001b[0m\u001b[0;34m\u001b[0m\u001b[0m\n",
            "\u001b[0;32m/usr/local/lib/python3.10/dist-packages/selenium/webdriver/chromium/webdriver.py\u001b[0m in \u001b[0;36m__init__\u001b[0;34m(self, browser_name, vendor_prefix, options, service, keep_alive)\u001b[0m\n\u001b[1;32m     64\u001b[0m \u001b[0;34m\u001b[0m\u001b[0m\n\u001b[1;32m     65\u001b[0m         \u001b[0;32mtry\u001b[0m\u001b[0;34m:\u001b[0m\u001b[0;34m\u001b[0m\u001b[0;34m\u001b[0m\u001b[0m\n\u001b[0;32m---> 66\u001b[0;31m             \u001b[0msuper\u001b[0m\u001b[0;34m(\u001b[0m\u001b[0;34m)\u001b[0m\u001b[0;34m.\u001b[0m\u001b[0m__init__\u001b[0m\u001b[0;34m(\u001b[0m\u001b[0mcommand_executor\u001b[0m\u001b[0;34m=\u001b[0m\u001b[0mexecutor\u001b[0m\u001b[0;34m,\u001b[0m \u001b[0moptions\u001b[0m\u001b[0;34m=\u001b[0m\u001b[0moptions\u001b[0m\u001b[0;34m)\u001b[0m\u001b[0;34m\u001b[0m\u001b[0;34m\u001b[0m\u001b[0m\n\u001b[0m\u001b[1;32m     67\u001b[0m         \u001b[0;32mexcept\u001b[0m \u001b[0mException\u001b[0m\u001b[0;34m:\u001b[0m\u001b[0;34m\u001b[0m\u001b[0;34m\u001b[0m\u001b[0m\n\u001b[1;32m     68\u001b[0m             \u001b[0mself\u001b[0m\u001b[0;34m.\u001b[0m\u001b[0mquit\u001b[0m\u001b[0;34m(\u001b[0m\u001b[0;34m)\u001b[0m\u001b[0;34m\u001b[0m\u001b[0;34m\u001b[0m\u001b[0m\n",
            "\u001b[0;32m/usr/local/lib/python3.10/dist-packages/selenium/webdriver/remote/webdriver.py\u001b[0m in \u001b[0;36m__init__\u001b[0;34m(self, command_executor, keep_alive, file_detector, options)\u001b[0m\n\u001b[1;32m    206\u001b[0m         \u001b[0mself\u001b[0m\u001b[0;34m.\u001b[0m\u001b[0m_authenticator_id\u001b[0m \u001b[0;34m=\u001b[0m \u001b[0;32mNone\u001b[0m\u001b[0;34m\u001b[0m\u001b[0;34m\u001b[0m\u001b[0m\n\u001b[1;32m    207\u001b[0m         \u001b[0mself\u001b[0m\u001b[0;34m.\u001b[0m\u001b[0mstart_client\u001b[0m\u001b[0;34m(\u001b[0m\u001b[0;34m)\u001b[0m\u001b[0;34m\u001b[0m\u001b[0;34m\u001b[0m\u001b[0m\n\u001b[0;32m--> 208\u001b[0;31m         \u001b[0mself\u001b[0m\u001b[0;34m.\u001b[0m\u001b[0mstart_session\u001b[0m\u001b[0;34m(\u001b[0m\u001b[0mcapabilities\u001b[0m\u001b[0;34m)\u001b[0m\u001b[0;34m\u001b[0m\u001b[0;34m\u001b[0m\u001b[0m\n\u001b[0m\u001b[1;32m    209\u001b[0m \u001b[0;34m\u001b[0m\u001b[0m\n\u001b[1;32m    210\u001b[0m     \u001b[0;32mdef\u001b[0m \u001b[0m__repr__\u001b[0m\u001b[0;34m(\u001b[0m\u001b[0mself\u001b[0m\u001b[0;34m)\u001b[0m\u001b[0;34m:\u001b[0m\u001b[0;34m\u001b[0m\u001b[0;34m\u001b[0m\u001b[0m\n",
            "\u001b[0;32m/usr/local/lib/python3.10/dist-packages/selenium/webdriver/remote/webdriver.py\u001b[0m in \u001b[0;36mstart_session\u001b[0;34m(self, capabilities)\u001b[0m\n\u001b[1;32m    290\u001b[0m \u001b[0;34m\u001b[0m\u001b[0m\n\u001b[1;32m    291\u001b[0m         \u001b[0mcaps\u001b[0m \u001b[0;34m=\u001b[0m \u001b[0m_create_caps\u001b[0m\u001b[0;34m(\u001b[0m\u001b[0mcapabilities\u001b[0m\u001b[0;34m)\u001b[0m\u001b[0;34m\u001b[0m\u001b[0;34m\u001b[0m\u001b[0m\n\u001b[0;32m--> 292\u001b[0;31m         \u001b[0mresponse\u001b[0m \u001b[0;34m=\u001b[0m \u001b[0mself\u001b[0m\u001b[0;34m.\u001b[0m\u001b[0mexecute\u001b[0m\u001b[0;34m(\u001b[0m\u001b[0mCommand\u001b[0m\u001b[0;34m.\u001b[0m\u001b[0mNEW_SESSION\u001b[0m\u001b[0;34m,\u001b[0m \u001b[0mcaps\u001b[0m\u001b[0;34m)\u001b[0m\u001b[0;34m[\u001b[0m\u001b[0;34m\"value\"\u001b[0m\u001b[0;34m]\u001b[0m\u001b[0;34m\u001b[0m\u001b[0;34m\u001b[0m\u001b[0m\n\u001b[0m\u001b[1;32m    293\u001b[0m         \u001b[0mself\u001b[0m\u001b[0;34m.\u001b[0m\u001b[0msession_id\u001b[0m \u001b[0;34m=\u001b[0m \u001b[0mresponse\u001b[0m\u001b[0;34m.\u001b[0m\u001b[0mget\u001b[0m\u001b[0;34m(\u001b[0m\u001b[0;34m\"sessionId\"\u001b[0m\u001b[0;34m)\u001b[0m\u001b[0;34m\u001b[0m\u001b[0;34m\u001b[0m\u001b[0m\n\u001b[1;32m    294\u001b[0m         \u001b[0mself\u001b[0m\u001b[0;34m.\u001b[0m\u001b[0mcaps\u001b[0m \u001b[0;34m=\u001b[0m \u001b[0mresponse\u001b[0m\u001b[0;34m.\u001b[0m\u001b[0mget\u001b[0m\u001b[0;34m(\u001b[0m\u001b[0;34m\"capabilities\"\u001b[0m\u001b[0;34m)\u001b[0m\u001b[0;34m\u001b[0m\u001b[0;34m\u001b[0m\u001b[0m\n",
            "\u001b[0;32m/usr/local/lib/python3.10/dist-packages/selenium/webdriver/remote/webdriver.py\u001b[0m in \u001b[0;36mexecute\u001b[0;34m(self, driver_command, params)\u001b[0m\n\u001b[1;32m    345\u001b[0m         \u001b[0mresponse\u001b[0m \u001b[0;34m=\u001b[0m \u001b[0mself\u001b[0m\u001b[0;34m.\u001b[0m\u001b[0mcommand_executor\u001b[0m\u001b[0;34m.\u001b[0m\u001b[0mexecute\u001b[0m\u001b[0;34m(\u001b[0m\u001b[0mdriver_command\u001b[0m\u001b[0;34m,\u001b[0m \u001b[0mparams\u001b[0m\u001b[0;34m)\u001b[0m\u001b[0;34m\u001b[0m\u001b[0;34m\u001b[0m\u001b[0m\n\u001b[1;32m    346\u001b[0m         \u001b[0;32mif\u001b[0m \u001b[0mresponse\u001b[0m\u001b[0;34m:\u001b[0m\u001b[0;34m\u001b[0m\u001b[0;34m\u001b[0m\u001b[0m\n\u001b[0;32m--> 347\u001b[0;31m             \u001b[0mself\u001b[0m\u001b[0;34m.\u001b[0m\u001b[0merror_handler\u001b[0m\u001b[0;34m.\u001b[0m\u001b[0mcheck_response\u001b[0m\u001b[0;34m(\u001b[0m\u001b[0mresponse\u001b[0m\u001b[0;34m)\u001b[0m\u001b[0;34m\u001b[0m\u001b[0;34m\u001b[0m\u001b[0m\n\u001b[0m\u001b[1;32m    348\u001b[0m             \u001b[0mresponse\u001b[0m\u001b[0;34m[\u001b[0m\u001b[0;34m\"value\"\u001b[0m\u001b[0;34m]\u001b[0m \u001b[0;34m=\u001b[0m \u001b[0mself\u001b[0m\u001b[0;34m.\u001b[0m\u001b[0m_unwrap_value\u001b[0m\u001b[0;34m(\u001b[0m\u001b[0mresponse\u001b[0m\u001b[0;34m.\u001b[0m\u001b[0mget\u001b[0m\u001b[0;34m(\u001b[0m\u001b[0;34m\"value\"\u001b[0m\u001b[0;34m,\u001b[0m \u001b[0;32mNone\u001b[0m\u001b[0;34m)\u001b[0m\u001b[0;34m)\u001b[0m\u001b[0;34m\u001b[0m\u001b[0;34m\u001b[0m\u001b[0m\n\u001b[1;32m    349\u001b[0m             \u001b[0;32mreturn\u001b[0m \u001b[0mresponse\u001b[0m\u001b[0;34m\u001b[0m\u001b[0;34m\u001b[0m\u001b[0m\n",
            "\u001b[0;32m/usr/local/lib/python3.10/dist-packages/selenium/webdriver/remote/errorhandler.py\u001b[0m in \u001b[0;36mcheck_response\u001b[0;34m(self, response)\u001b[0m\n\u001b[1;32m    227\u001b[0m                 \u001b[0malert_text\u001b[0m \u001b[0;34m=\u001b[0m \u001b[0mvalue\u001b[0m\u001b[0;34m[\u001b[0m\u001b[0;34m\"alert\"\u001b[0m\u001b[0;34m]\u001b[0m\u001b[0;34m.\u001b[0m\u001b[0mget\u001b[0m\u001b[0;34m(\u001b[0m\u001b[0;34m\"text\"\u001b[0m\u001b[0;34m)\u001b[0m\u001b[0;34m\u001b[0m\u001b[0;34m\u001b[0m\u001b[0m\n\u001b[1;32m    228\u001b[0m             \u001b[0;32mraise\u001b[0m \u001b[0mexception_class\u001b[0m\u001b[0;34m(\u001b[0m\u001b[0mmessage\u001b[0m\u001b[0;34m,\u001b[0m \u001b[0mscreen\u001b[0m\u001b[0;34m,\u001b[0m \u001b[0mstacktrace\u001b[0m\u001b[0;34m,\u001b[0m \u001b[0malert_text\u001b[0m\u001b[0;34m)\u001b[0m  \u001b[0;31m# type: ignore[call-arg]  # mypy is not smart enough here\u001b[0m\u001b[0;34m\u001b[0m\u001b[0;34m\u001b[0m\u001b[0m\n\u001b[0;32m--> 229\u001b[0;31m         \u001b[0;32mraise\u001b[0m \u001b[0mexception_class\u001b[0m\u001b[0;34m(\u001b[0m\u001b[0mmessage\u001b[0m\u001b[0;34m,\u001b[0m \u001b[0mscreen\u001b[0m\u001b[0;34m,\u001b[0m \u001b[0mstacktrace\u001b[0m\u001b[0;34m)\u001b[0m\u001b[0;34m\u001b[0m\u001b[0;34m\u001b[0m\u001b[0m\n\u001b[0m",
            "\u001b[0;31mSessionNotCreatedException\u001b[0m: Message: session not created: Chrome failed to start: exited normally.\n  (session not created: DevToolsActivePort file doesn't exist)\n  (The process started from chrome location /root/.cache/selenium/chrome/linux64/124.0.6367.91/chrome is no longer running, so ChromeDriver is assuming that Chrome has crashed.)\nStacktrace:\n#0 0x587c9c522cb3 <unknown>\n#1 0x587c9c2114a7 <unknown>\n#2 0x587c9c245a26 <unknown>\n#3 0x587c9c241980 <unknown>\n#4 0x587c9c28a7b0 <unknown>\n#5 0x587c9c27e1b3 <unknown>\n#6 0x587c9c24f24a <unknown>\n#7 0x587c9c24fc1e <unknown>\n#8 0x587c9c4e6fdb <unknown>\n#9 0x587c9c4eaf2b <unknown>\n#10 0x587c9c4d30f1 <unknown>\n#11 0x587c9c4eba92 <unknown>\n#12 0x587c9c4b7faf <unknown>\n#13 0x587c9c511e08 <unknown>\n#14 0x587c9c511fe0 <unknown>\n#15 0x587c9c521e04 <unknown>\n#16 0x792c51cf9ac3 <unknown>\n"
          ]
        }
      ]
    },
    {
      "cell_type": "code",
      "source": [],
      "metadata": {
        "id": "cu7KwjsAGBVd"
      },
      "execution_count": null,
      "outputs": []
    },
    {
      "cell_type": "code",
      "source": [],
      "metadata": {
        "id": "wVZ3gQIJGBll"
      },
      "execution_count": null,
      "outputs": []
    },
    {
      "cell_type": "code",
      "source": [],
      "metadata": {
        "id": "rOBmls3OGBvo"
      },
      "execution_count": null,
      "outputs": []
    }
  ]
}