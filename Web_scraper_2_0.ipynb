{
  "nbformat": 4,
  "nbformat_minor": 0,
  "metadata": {
    "colab": {
      "provenance": [],
      "authorship_tag": "ABX9TyO4S9OKG1suqDkHjrqRi5e6",
      "include_colab_link": true
    },
    "kernelspec": {
      "name": "python3",
      "display_name": "Python 3"
    },
    "language_info": {
      "name": "python"
    }
  },
  "cells": [
    {
      "cell_type": "markdown",
      "metadata": {
        "id": "view-in-github",
        "colab_type": "text"
      },
      "source": [
        "<a href=\"https://colab.research.google.com/github/Zack1243/Novel-Webscraper/blob/main/Web_scraper_2_0.ipynb\" target=\"_parent\"><img src=\"https://colab.research.google.com/assets/colab-badge.svg\" alt=\"Open In Colab\"/></a>"
      ]
    },
    {
      "cell_type": "markdown",
      "source": [
        "# Import libraries"
      ],
      "metadata": {
        "id": "rrcIsszyjUOI"
      }
    },
    {
      "cell_type": "code",
      "execution_count": null,
      "metadata": {
        "id": "PIyrgQ5KHlaF"
      },
      "outputs": [],
      "source": [
        "import selenium\n",
        "import beautifulsoup\n",
        "import async.io\n",
        "import multiprocessing"
      ]
    },
    {
      "cell_type": "markdown",
      "source": [
        "### PURPOSE\n",
        "Learn the libraries\n",
        "\n",
        "*   Selenium\n",
        "*   BeautifulSoup\n",
        "*   Multithreading/multiprocessing\n",
        "\n",
        "LEARN\n",
        "*   github uploading and updates"
      ],
      "metadata": {
        "id": "CDJxIjNZIflo"
      }
    },
    {
      "cell_type": "code",
      "source": [
        "def correctURL(url):\n",
        "\n",
        "  # Url subsection that contains chapter urls for the book\n",
        "  chapters_list_url = \"#tab-chapters-title\"\n",
        "\n",
        "  # Check if the url is valid\n",
        "  if chapters_list_url in url:\n",
        "    return url\n",
        "\n",
        "  # Change url to contain substring and return\n",
        "  else:\n",
        "    parts = url.split('#')\n",
        "    return parts[0] + chapters_list_url"
      ],
      "metadata": {
        "id": "JMPSowmIj6_6"
      },
      "execution_count": 5,
      "outputs": []
    },
    {
      "cell_type": "code",
      "source": [
        "def loadWebpage(url):\n",
        ""
      ],
      "metadata": {
        "id": "eZvbXnaOlle-"
      },
      "execution_count": null,
      "outputs": []
    },
    {
      "cell_type": "markdown",
      "source": [
        "# Ask for link"
      ],
      "metadata": {
        "id": "RS-T5-uwjXpF"
      }
    },
    {
      "cell_type": "code",
      "source": [
        "# Get the link from the user\n",
        "url = input(\"Enter homepage URL: \")\n",
        "\n",
        "# Cull the url\n",
        "url = correctURL(url)\n",
        "\n",
        "# Load the webpage with selenium\n",
        "loadWebpage(url)\n",
        "\n",
        "\n"
      ],
      "metadata": {
        "colab": {
          "base_uri": "https://localhost:8080/"
        },
        "id": "FqGloVigjdUb",
        "outputId": "1dc48cb8-7763-4a3f-aaa8-8a4b11a4b6ae"
      },
      "execution_count": 6,
      "outputs": [
        {
          "output_type": "stream",
          "name": "stdout",
          "text": [
            "Enter homepage URL: asdf\n",
            "asdf#tab-chapters-title\n"
          ]
        }
      ]
    }
  ]
}