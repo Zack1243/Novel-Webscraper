{
  "nbformat": 4,
  "nbformat_minor": 0,
  "metadata": {
    "colab": {
      "provenance": [],
      "authorship_tag": "ABX9TyPh09XyIqniNB93gig3V2SW",
      "include_colab_link": true
    },
    "kernelspec": {
      "name": "python3",
      "display_name": "Python 3"
    },
    "language_info": {
      "name": "python"
    }
  },
  "cells": [
    {
      "cell_type": "markdown",
      "metadata": {
        "id": "view-in-github",
        "colab_type": "text"
      },
      "source": [
        "<a href=\"https://colab.research.google.com/github/Zack1243/Novel-Webscraper/blob/multi-threaded-downloads/multithread_testing.ipynb\" target=\"_parent\"><img src=\"https://colab.research.google.com/assets/colab-badge.svg\" alt=\"Open In Colab\"/></a>"
      ]
    },
    {
      "cell_type": "code",
      "execution_count": 1,
      "metadata": {
        "colab": {
          "base_uri": "https://localhost:8080/"
        },
        "id": "45tmOmNyDj7-",
        "outputId": "236c8ed7-6925-4a10-8818-4905b1579792"
      },
      "outputs": [
        {
          "output_type": "stream",
          "name": "stdout",
          "text": [
            "Collecting selenium\n",
            "  Downloading selenium-4.20.0-py3-none-any.whl (9.5 MB)\n",
            "\u001b[2K     \u001b[90m━━━━━━━━━━━━━━━━━━━━━━━━━━━━━━━━━━━━━━━━\u001b[0m \u001b[32m9.5/9.5 MB\u001b[0m \u001b[31m37.5 MB/s\u001b[0m eta \u001b[36m0:00:00\u001b[0m\n",
            "\u001b[?25hRequirement already satisfied: urllib3[socks]<3,>=1.26 in /usr/local/lib/python3.10/dist-packages (from selenium) (2.0.7)\n",
            "Collecting trio~=0.17 (from selenium)\n",
            "  Downloading trio-0.25.0-py3-none-any.whl (467 kB)\n",
            "\u001b[2K     \u001b[90m━━━━━━━━━━━━━━━━━━━━━━━━━━━━━━━━━━━━━━━━\u001b[0m \u001b[32m467.2/467.2 kB\u001b[0m \u001b[31m30.4 MB/s\u001b[0m eta \u001b[36m0:00:00\u001b[0m\n",
            "\u001b[?25hCollecting trio-websocket~=0.9 (from selenium)\n",
            "  Downloading trio_websocket-0.11.1-py3-none-any.whl (17 kB)\n",
            "Requirement already satisfied: certifi>=2021.10.8 in /usr/local/lib/python3.10/dist-packages (from selenium) (2024.2.2)\n",
            "Requirement already satisfied: typing_extensions>=4.9.0 in /usr/local/lib/python3.10/dist-packages (from selenium) (4.11.0)\n",
            "Requirement already satisfied: attrs>=23.2.0 in /usr/local/lib/python3.10/dist-packages (from trio~=0.17->selenium) (23.2.0)\n",
            "Requirement already satisfied: sortedcontainers in /usr/local/lib/python3.10/dist-packages (from trio~=0.17->selenium) (2.4.0)\n",
            "Requirement already satisfied: idna in /usr/local/lib/python3.10/dist-packages (from trio~=0.17->selenium) (3.7)\n",
            "Collecting outcome (from trio~=0.17->selenium)\n",
            "  Downloading outcome-1.3.0.post0-py2.py3-none-any.whl (10 kB)\n",
            "Requirement already satisfied: sniffio>=1.3.0 in /usr/local/lib/python3.10/dist-packages (from trio~=0.17->selenium) (1.3.1)\n",
            "Requirement already satisfied: exceptiongroup in /usr/local/lib/python3.10/dist-packages (from trio~=0.17->selenium) (1.2.1)\n",
            "Collecting wsproto>=0.14 (from trio-websocket~=0.9->selenium)\n",
            "  Downloading wsproto-1.2.0-py3-none-any.whl (24 kB)\n",
            "Requirement already satisfied: pysocks!=1.5.7,<2.0,>=1.5.6 in /usr/local/lib/python3.10/dist-packages (from urllib3[socks]<3,>=1.26->selenium) (1.7.1)\n",
            "Collecting h11<1,>=0.9.0 (from wsproto>=0.14->trio-websocket~=0.9->selenium)\n",
            "  Downloading h11-0.14.0-py3-none-any.whl (58 kB)\n",
            "\u001b[2K     \u001b[90m━━━━━━━━━━━━━━━━━━━━━━━━━━━━━━━━━━━━━━━━\u001b[0m \u001b[32m58.3/58.3 kB\u001b[0m \u001b[31m6.7 MB/s\u001b[0m eta \u001b[36m0:00:00\u001b[0m\n",
            "\u001b[?25hInstalling collected packages: outcome, h11, wsproto, trio, trio-websocket, selenium\n",
            "Successfully installed h11-0.14.0 outcome-1.3.0.post0 selenium-4.20.0 trio-0.25.0 trio-websocket-0.11.1 wsproto-1.2.0\n"
          ]
        }
      ],
      "source": [
        "from bs4 import BeautifulSoup as b4\n",
        "import asyncio\n",
        "from google.colab import files\n",
        "import math\n",
        "import os\n",
        "import requests\n",
        "import time\n",
        "import threading\n",
        "import zipfile\n",
        "!pip install selenium"
      ]
    },
    {
      "cell_type": "code",
      "source": [
        "import selenium\n",
        "from selenium import webdriver\n",
        "from selenium.webdriver.common.by import By\n",
        "from selenium.webdriver.support.ui import WebDriverWait\n",
        "from selenium.webdriver.support import expected_conditions as EC\n",
        "from selenium.common.exceptions import TimeoutException"
      ],
      "metadata": {
        "id": "B1MmVB-9DowP"
      },
      "execution_count": 2,
      "outputs": []
    },
    {
      "cell_type": "code",
      "source": [
        "TRIAL = 3\n",
        "NUM_THREADS = 4"
      ],
      "metadata": {
        "id": "eiO00RR0DqKk"
      },
      "execution_count": 3,
      "outputs": []
    },
    {
      "cell_type": "markdown",
      "source": [
        "### Links to 8 chapters"
      ],
      "metadata": {
        "id": "AsY-u2ubODdp"
      }
    },
    {
      "cell_type": "code",
      "source": [
        "links = [\"https://www.lightnovelpub.com/novel/advent-of-the-three-calamities-1678/chapter-1\",\n",
        "  \"https://www.lightnovelpub.com/novel/advent-of-the-three-calamities-1678/chapter-2\",\n",
        "  \"https://www.lightnovelpub.com/novel/advent-of-the-three-calamities-1678/chapter-3\",\n",
        "  \"https://www.lightnovelpub.com/novel/advent-of-the-three-calamities-1678/chapter-4\",\n",
        "  \"https://www.lightnovelpub.com/novel/advent-of-the-three-calamities-1678/chapter-5\",\n",
        "  \"https://www.lightnovelpub.com/novel/advent-of-the-three-calamities-1678/chapter-6\",\n",
        "  \"https://www.lightnovelpub.com/novel/advent-of-the-three-calamities-1678/chapter-7\",\n",
        "  \"https://www.lightnovelpub.com/novel/advent-of-the-three-calamities-1678/chapter-8\"]"
      ],
      "metadata": {
        "id": "tZgw1LAIDqyG"
      },
      "execution_count": 4,
      "outputs": []
    },
    {
      "cell_type": "markdown",
      "source": [
        "## Save chapter to a file"
      ],
      "metadata": {
        "id": "NUcAAx12p3VZ"
      }
    },
    {
      "cell_type": "code",
      "source": [
        "def parseFile(html):\n",
        "  #with open(html, \"r\") as file:\n",
        "  soup = b4(html, features=\"html.parser\")\n",
        "  #print(soup.chapter-title.get_text())\n",
        "  tag = soup.article.find_all('span')\n",
        "  for t in tag:\n",
        "    if \"Chapter\" in t.get_text():\n",
        "      title = t.get_text() + \".html\"\n",
        "  soup = soup.find_all('p')\n",
        "  with open(title, \"w\" , encoding='utf-8') as file:\n",
        "    for paragraph in soup:\n",
        "        file.write(str(paragraph) + \"\\n\")  # Write each paragraph to the file\n",
        "    print(str(soup))\n",
        "  file.close()"
      ],
      "metadata": {
        "id": "WgTMjD0Up1PP"
      },
      "execution_count": null,
      "outputs": []
    },
    {
      "cell_type": "markdown",
      "source": [
        "### Chapter download class (thread this object)"
      ],
      "metadata": {
        "id": "IPD2OquDOKpW"
      }
    },
    {
      "cell_type": "code",
      "source": [
        "def getChapter(url, browser, trial):\n",
        "  try:\n",
        "    browser.get(url)\n",
        "    print(f\"attempting to download url: {url}\")\n",
        "    timeout_in_seconds = 10\n",
        "    WebDriverWait(browser, timeout_in_seconds).until(EC.presence_of_element_located((By.ID, 'chapter-container')))\n",
        "    html = browser.page_source\n",
        "    parseFile(html)\n",
        "  except:\n",
        "    if trial >= TRIAL:\n",
        "      with open(url, \"w\") as file:\n",
        "        file.write(\"I DONE GOOFED!!!\")\n",
        "      file.close()\n",
        "      print(\"I give up...\")\n",
        "    else:\n",
        "      print(f\"Download failed trial {trial}\")\n",
        "  finally:\n",
        "    browser.quit()"
      ],
      "metadata": {
        "id": "wfqh-FtiOIMa"
      },
      "execution_count": 5,
      "outputs": []
    },
    {
      "cell_type": "markdown",
      "source": [
        "### Instantiate browser"
      ],
      "metadata": {
        "id": "WSud0-IaZrTr"
      }
    },
    {
      "cell_type": "code",
      "source": [
        "def getBrowser():\n",
        "  options = webdriver.FirefoxOptions()\n",
        "  options.add_argument('--headless')\n",
        "  browser = webdriver.Firefox(options=options)\n",
        "  return browser"
      ],
      "metadata": {
        "id": "AjPBk40tZqrZ"
      },
      "execution_count": 6,
      "outputs": []
    },
    {
      "cell_type": "markdown",
      "source": [
        "### Concurrently download all links"
      ],
      "metadata": {
        "id": "OEabSeCwnAGk"
      }
    },
    {
      "cell_type": "code",
      "source": [
        "def download_links(links, threads, thread_id, browsers):\n",
        "  wait = True\n",
        "  for link in links:\n",
        "    with wait:\n",
        "      # Wait for a thread to be free\n",
        "      if thread\n",
        "\n",
        "    # Assign thread to a link\n",
        "\n",
        "    # Lock link\n",
        "\n",
        "    # default case (everything breaks)\n",
        "\n",
        "\n",
        "\n",
        "  # Wait for each thread to finish\n",
        "  for t in threads:\n",
        "    t.join()\n",
        "  return"
      ],
      "metadata": {
        "id": "0jt1wkzvm_RL"
      },
      "execution_count": null,
      "outputs": []
    },
    {
      "cell_type": "markdown",
      "source": [
        "### Loop creating threads"
      ],
      "metadata": {
        "id": "m_pnVHSmO3Wn"
      }
    },
    {
      "cell_type": "code",
      "source": [
        "# get the modulo by the number of threads\n",
        "threads = {}\n",
        "thread_id = []\n",
        "browsers = []\n",
        "\n",
        "\n",
        "# Adjust if there are less links than threads\n",
        "if !len(links):\n",
        "  print(\"No links to download\")\n",
        "elif len(links) < NUM_THREADS:\n",
        "  NUM_THREADS = len(links)\n",
        "\n",
        "# Instantiate and queue threads\n",
        "if len(links) >= NUM_THREADS:\n",
        "  # Instantiate NUM_THREADS with their own browsers\n",
        "  for i in range(NUM_THREADS):\n",
        "    browsers.append(getBrowser())\n",
        "    threads.append((threading.Thread(target=getChapter, name=i, args=(links[0], browsers[i], 0)), browsers[i]))\n",
        "\n",
        "    # Store thread ids' into a list\n",
        "      #thread_id.append(threading.get_native_id((threads[i][0])))\n",
        "\n",
        "    # Pop each link so threads don't overlap\n",
        "    links.pop(0)\n",
        "\n",
        "\n",
        "  # Begin thread execution\n",
        "  for t in threads:\n",
        "    t.start()\n",
        "  download_links(links, threads, thread_id, browsers)"
      ],
      "metadata": {
        "id": "SqUpPyPBOQYC"
      },
      "execution_count": null,
      "outputs": []
    },
    {
      "cell_type": "markdown",
      "source": [
        "# EXAMPLE CODE"
      ],
      "metadata": {
        "id": "R8oHKRz3pmZB"
      }
    },
    {
      "cell_type": "code",
      "source": [
        "with cv:\n",
        "    cv.wait_for(an_item_is_available)\n",
        "    get_an_available_item()"
      ],
      "metadata": {
        "id": "gejbe_6cOQut"
      },
      "execution_count": null,
      "outputs": []
    },
    {
      "cell_type": "code",
      "source": [
        "while not predicate():\n",
        "    cv.wait()"
      ],
      "metadata": {
        "id": "pz7PcruSk67I"
      },
      "execution_count": null,
      "outputs": []
    },
    {
      "cell_type": "code",
      "source": [
        "import threading\n",
        "\n",
        "# Define a function that waits for a condition\n",
        "def wait_for_condition(condition):\n",
        "    with condition:\n",
        "        print(\"Waiting for condition...\")\n",
        "        condition.wait()  # Wait until notified\n",
        "        print(\"Condition satisfied!\")\n",
        "\n",
        "# Create a lock\n",
        "lock = threading.Lock()\n",
        "\n",
        "# Create a Condition object with the lock\n",
        "condition = threading.Condition(lock)\n",
        "\n",
        "# Create a thread that waits for the condition\n",
        "thread = threading.Thread(target=wait_for_condition, args=(condition,))\n",
        "thread.start()\n",
        "\n",
        "# Simulate some work being done\n",
        "# ...\n",
        "\n",
        "# Notify the waiting thread when the condition is satisfied\n",
        "with condition:\n",
        "    print(\"Condition satisfied! Notifying the waiting thread...\")\n",
        "    condition.notify()\n",
        "\n",
        "# Wait for the thread to finish\n",
        "thread.join()\n"
      ],
      "metadata": {
        "id": "SuW9h9KQq4_q"
      },
      "execution_count": null,
      "outputs": []
    }
  ]
}