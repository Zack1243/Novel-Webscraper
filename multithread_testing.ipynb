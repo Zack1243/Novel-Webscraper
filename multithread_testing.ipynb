{
  "nbformat": 4,
  "nbformat_minor": 0,
  "metadata": {
    "colab": {
      "provenance": [],
      "authorship_tag": "ABX9TyODIgwaJWrwGZXA9ndz0AI+",
      "include_colab_link": true
    },
    "kernelspec": {
      "name": "python3",
      "display_name": "Python 3"
    },
    "language_info": {
      "name": "python"
    }
  },
  "cells": [
    {
      "cell_type": "markdown",
      "metadata": {
        "id": "view-in-github",
        "colab_type": "text"
      },
      "source": [
        "<a href=\"https://colab.research.google.com/github/Zack1243/Novel-Webscraper/blob/multi-threaded-downloads/multithread_testing.ipynb\" target=\"_parent\"><img src=\"https://colab.research.google.com/assets/colab-badge.svg\" alt=\"Open In Colab\"/></a>"
      ]
    },
    {
      "cell_type": "code",
      "execution_count": null,
      "metadata": {
        "id": "45tmOmNyDj7-"
      },
      "outputs": [],
      "source": [
        "from bs4 import BeautifulSoup as b4\n",
        "import asyncio\n",
        "from google.colab import files\n",
        "import os\n",
        "import requests\n",
        "import time\n",
        "import threading\n",
        "import zipfile\n",
        "!pip install selenium"
      ]
    },
    {
      "cell_type": "code",
      "source": [
        "import selenium\n",
        "from selenium import webdriver\n",
        "from selenium.webdriver.common.by import By\n",
        "from selenium.webdriver.support.ui import WebDriverWait\n",
        "from selenium.webdriver.support import expected_conditions as EC\n",
        "from selenium.common.exceptions import TimeoutException"
      ],
      "metadata": {
        "id": "B1MmVB-9DowP"
      },
      "execution_count": null,
      "outputs": []
    },
    {
      "cell_type": "code",
      "source": [
        "TRIAL = 3"
      ],
      "metadata": {
        "id": "eiO00RR0DqKk"
      },
      "execution_count": null,
      "outputs": []
    },
    {
      "cell_type": "markdown",
      "source": [
        "### Download each individual chapter"
      ],
      "metadata": {
        "id": "VEFH6X8pEIFI"
      }
    },
    {
      "cell_type": "code",
      "source": [
        "def getChapter(url, browser, trial):\n",
        "  try:\n",
        "      browser.get(url)\n",
        "      print(f\"attempting to download url: {url}\")\n",
        "      timeout_in_seconds = 10\n",
        "      WebDriverWait(browser, timeout_in_seconds).until(EC.presence_of_element_located((By.ID, 'chapter-container')))\n",
        "      html = browser.page_source\n",
        "  except TimeoutException:\n",
        "      if trial >= TRIAL:\n",
        "        with open(url, \"w\") as file:\n",
        "          file.write(\"I DONE GOOFED!!!\")\n",
        "        file.close()\n",
        "        print(\"I give up...\")\n",
        "      else:\n",
        "        print(f\"Download failed trial {trial}\")\n",
        "        getChapter(url, browser, trial + 1)"
      ],
      "metadata": {
        "id": "alUGStpWDqTC"
      },
      "execution_count": null,
      "outputs": []
    },
    {
      "cell_type": "markdown",
      "source": [
        "### Parse the novel's mainpage"
      ],
      "metadata": {
        "id": "Qh2WbWu_EFV1"
      }
    },
    {
      "cell_type": "code",
      "source": [
        "def getNovelPage(url, browser, trial):\n",
        "  try:\n",
        "      print(f\"getNovelPage trying url: {url}...\")\n",
        "      browser.get(url)\n",
        "      html = browser.page_source\n",
        "      soup = b4(html, features=\"html.parser\")\n",
        "      strainer = soup.find(class_=\"chapter-list\").find_all('a')\n",
        "      for link in strainer:\n",
        "        getChapter(\"https://www.lightnovelpub.com\"+ link['href'], browser, 0)\n",
        "      return html\n",
        "  except TimeoutException:\n",
        "      if trial >= TRIAL:\n",
        "        with open(url, \"w\") as file:\n",
        "          file.write(\"I DONE GOOFED!!!\")\n",
        "        return -1\n",
        "        file.close()\n",
        "        print(\"I give up...\")\n",
        "      else:\n",
        "        print(f\"Download failed trial {trial}\")\n",
        "        getNovelPage(url, browser, trial + 1)\n",
        "  finally:\n",
        "      browser.quit()"
      ],
      "metadata": {
        "id": "iltgYzaxDqc8"
      },
      "execution_count": null,
      "outputs": []
    },
    {
      "cell_type": "markdown",
      "source": [
        "### Get the page of all the book's chapters"
      ],
      "metadata": {
        "id": "Ck3VmCcwEBsE"
      }
    },
    {
      "cell_type": "code",
      "source": [
        "url = \"https://www.lightnovelpub.com/novel/advent-of-the-three-calamities/chapters\"\n",
        "options = webdriver.FirefoxOptions()\n",
        "options.add_argument('--headless')\n",
        "browser = webdriver.Firefox(options=options)\n",
        "getNovelPage(url, browser, 0)"
      ],
      "metadata": {
        "id": "9x2i_IaADqnq"
      },
      "execution_count": null,
      "outputs": []
    },
    {
      "cell_type": "code",
      "source": [],
      "metadata": {
        "id": "tZgw1LAIDqyG"
      },
      "execution_count": null,
      "outputs": []
    }
  ]
}